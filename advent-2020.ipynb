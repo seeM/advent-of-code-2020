{
 "cells": [
  {
   "cell_type": "code",
   "execution_count": 1,
   "metadata": {},
   "outputs": [],
   "source": [
    "import re\n",
    "from collections import defaultdict, Counter, OrderedDict\n",
    "from collections.abc import Mapping\n",
    "from copy import copy, deepcopy\n",
    "from dataclasses import dataclass\n",
    "from enum import Enum\n",
    "from functools import partial, reduce\n",
    "from itertools import combinations, product\n",
    "from math import ceil, cos, floor, prod, radians, sin\n",
    "from typing import Any, Dict, List, Tuple\n",
    "\n",
    "import numpy as np"
   ]
  },
  {
   "cell_type": "markdown",
   "metadata": {},
   "source": [
    "## Utils"
   ]
  },
  {
   "cell_type": "code",
   "execution_count": 2,
   "metadata": {},
   "outputs": [],
   "source": [
    "def read(path):\n",
    "    with open(path) as f: return f.read()"
   ]
  },
  {
   "cell_type": "code",
   "execution_count": 3,
   "metadata": {},
   "outputs": [],
   "source": [
    "def mapl(func, iterable, level=1):\n",
    "    if level == 0: return func(iterable)\n",
    "    return [mapl(func, i, level - 1) for i in iterable]"
   ]
  },
  {
   "cell_type": "code",
   "execution_count": 4,
   "metadata": {},
   "outputs": [],
   "source": [
    "a = [[[0, 1, 2], [3]], [[4]]]\n",
    "assert mapl(str, a, 3) == [[[\"0\", \"1\", \"2\"], [\"3\"]], [[\"4\"]]]\n",
    "assert mapl(tuple, a, 2) == [[(0, 1, 2), (3,)], [(4,)]]\n",
    "assert mapl(tuple, a, 1) == [([0, 1, 2], [3]), ([4],)]\n",
    "assert mapl(tuple, a, 0) == ([[0, 1, 2], [3]], [[4]])"
   ]
  },
  {
   "cell_type": "code",
   "execution_count": 5,
   "metadata": {},
   "outputs": [],
   "source": [
    "def recursive_split(text, pats, level=0):\n",
    "    if not pats: return text\n",
    "    return recursive_split(mapl(partial(re.split, pats[0]), text, level), pats[1:], level+1)"
   ]
  },
  {
   "cell_type": "code",
   "execution_count": 6,
   "metadata": {},
   "outputs": [],
   "source": [
    "assert recursive_split(\"text\", []) == \"text\"\n",
    "assert recursive_split(\"t\\ne\\nx\\nt\", [\"\\n\"]) == [\"t\", \"e\", \"x\", \"t\"]\n",
    "assert recursive_split(\"t\\ne\\n\\nx\\nt\", [\"\\n\\n\", \"\\n\"]) == [[\"t\", \"e\"], [\"x\", \"t\"]]"
   ]
  },
  {
   "cell_type": "code",
   "execution_count": 7,
   "metadata": {},
   "outputs": [],
   "source": [
    "def split(text, pats=(\"\\n\",)):\n",
    "    return recursive_split(text.strip(), pats)"
   ]
  },
  {
   "cell_type": "markdown",
   "metadata": {},
   "source": [
    "## Day 1"
   ]
  },
  {
   "cell_type": "code",
   "execution_count": 8,
   "metadata": {},
   "outputs": [],
   "source": [
    "def split_ints(text):\n",
    "    return [int(x) for x in text.split()]"
   ]
  },
  {
   "cell_type": "code",
   "execution_count": 9,
   "metadata": {},
   "outputs": [],
   "source": [
    "DAY01_TEST = \"\"\"\\\n",
    "1721\n",
    "979\n",
    "366\n",
    "299\n",
    "675\n",
    "1456\n",
    "\"\"\"\n",
    "DAY01_TEST = split_ints(DAY01_TEST)\n",
    "DAY01_DATA = split_ints(read(\"data/day01.txt\"))"
   ]
  },
  {
   "cell_type": "code",
   "execution_count": 10,
   "metadata": {},
   "outputs": [],
   "source": [
    "def prod_combinations_where_sum_eq_2020(ints, n):\n",
    "    return next(prod(x) for x in combinations(ints, r=n) if sum(x) == 2020)"
   ]
  },
  {
   "cell_type": "code",
   "execution_count": 11,
   "metadata": {},
   "outputs": [],
   "source": [
    "assert prod_combinations_where_sum_eq_2020(DAY01_TEST, 2) == 514579"
   ]
  },
  {
   "cell_type": "code",
   "execution_count": 12,
   "metadata": {},
   "outputs": [],
   "source": [
    "assert prod_combinations_where_sum_eq_2020(DAY01_DATA, 2) == 866436"
   ]
  },
  {
   "cell_type": "code",
   "execution_count": 13,
   "metadata": {},
   "outputs": [],
   "source": [
    "assert prod_combinations_where_sum_eq_2020(DAY01_TEST, 3) == 241861950"
   ]
  },
  {
   "cell_type": "code",
   "execution_count": 14,
   "metadata": {},
   "outputs": [],
   "source": [
    "assert prod_combinations_where_sum_eq_2020(DAY01_DATA, 3) == 276650720"
   ]
  },
  {
   "cell_type": "markdown",
   "metadata": {},
   "source": [
    "## Day 2"
   ]
  },
  {
   "cell_type": "code",
   "execution_count": 15,
   "metadata": {},
   "outputs": [],
   "source": [
    "def parse_policy_data(text):\n",
    "    args = []\n",
    "    for line in text.splitlines():\n",
    "        low, high, char, password = re.match(r\"^(\\d+)-(\\d+) ([a-z]): ([a-z]+)$\", line).groups()\n",
    "        args.append((int(low), int(high), char, password))\n",
    "    return args"
   ]
  },
  {
   "cell_type": "code",
   "execution_count": 16,
   "metadata": {},
   "outputs": [],
   "source": [
    "DAY02_TEST = \"\"\"\\\n",
    "1-3 a: abcde\n",
    "1-3 b: cdefg\n",
    "2-9 c: ccccccccc\n",
    "\"\"\"\n",
    "DAY02_TEST = parse_policy_data(DAY02_TEST)\n",
    "DAY02_DATA = parse_policy_data(read(\"data/day02.txt\"))"
   ]
  },
  {
   "cell_type": "code",
   "execution_count": 17,
   "metadata": {},
   "outputs": [],
   "source": [
    "def count_policy(low, high, char, password):\n",
    "    return low <= password.count(char) <= high"
   ]
  },
  {
   "cell_type": "code",
   "execution_count": 18,
   "metadata": {},
   "outputs": [],
   "source": [
    "def position_policy(low, high, char, password):\n",
    "    return sum(password[i-1] == char for i in (low, high)) == 1"
   ]
  },
  {
   "cell_type": "code",
   "execution_count": 19,
   "metadata": {},
   "outputs": [],
   "source": [
    "def count_valid_passwords(policy_data, policy):\n",
    "    return sum(policy(*p) for p in policy_data)"
   ]
  },
  {
   "cell_type": "code",
   "execution_count": 20,
   "metadata": {},
   "outputs": [],
   "source": [
    "assert count_valid_passwords(DAY02_TEST, count_policy) == 2"
   ]
  },
  {
   "cell_type": "code",
   "execution_count": 21,
   "metadata": {},
   "outputs": [],
   "source": [
    "assert count_valid_passwords(DAY02_DATA, count_policy) == 655"
   ]
  },
  {
   "cell_type": "code",
   "execution_count": 22,
   "metadata": {},
   "outputs": [],
   "source": [
    "assert count_valid_passwords(DAY02_TEST, position_policy) == 1"
   ]
  },
  {
   "cell_type": "code",
   "execution_count": 23,
   "metadata": {},
   "outputs": [],
   "source": [
    "assert count_valid_passwords(DAY02_DATA, position_policy) == 673"
   ]
  },
  {
   "cell_type": "markdown",
   "metadata": {},
   "source": [
    "## Day 3"
   ]
  },
  {
   "cell_type": "code",
   "execution_count": 24,
   "metadata": {},
   "outputs": [],
   "source": [
    "def parse_trees(text):\n",
    "    return np.array([[char == \"#\" for char in line] for line in text.split()])"
   ]
  },
  {
   "cell_type": "code",
   "execution_count": 25,
   "metadata": {},
   "outputs": [],
   "source": [
    "DAY03_TEST = \"\"\"\\\n",
    "..##.......\n",
    "#...#...#..\n",
    ".#....#..#.\n",
    "..#.#...#.#\n",
    ".#...##..#.\n",
    "..#.##.....\n",
    ".#.#.#....#\n",
    ".#........#\n",
    "#.##...#...\n",
    "#...##....#\n",
    ".#..#...#.#\n",
    "\"\"\"\n",
    "DAY03_TEST = parse_trees(DAY03_TEST)\n",
    "DAY03_DATA = parse_trees(read(\"data/day03.txt\"))"
   ]
  },
  {
   "cell_type": "code",
   "execution_count": 26,
   "metadata": {},
   "outputs": [],
   "source": [
    "def count_trees(arr, dx, dy):\n",
    "    ny, nx = arr.shape\n",
    "    y = np.arange(0, ny, dy)\n",
    "    x = np.mod(np.arange(0, len(y)) * dx, nx)\n",
    "    return np.sum(arr[y, x])"
   ]
  },
  {
   "cell_type": "code",
   "execution_count": 27,
   "metadata": {},
   "outputs": [],
   "source": [
    "assert count_trees(DAY03_TEST, 3, 1) == 7"
   ]
  },
  {
   "cell_type": "code",
   "execution_count": 28,
   "metadata": {},
   "outputs": [],
   "source": [
    "assert count_trees(DAY03_DATA, 3, 1) == 216"
   ]
  },
  {
   "cell_type": "code",
   "execution_count": 29,
   "metadata": {},
   "outputs": [],
   "source": [
    "SLOPES = [(1, 1), (3, 1), (5, 1), (7, 1), (1, 2)]\n",
    "\n",
    "def prod_count_trees_for_slopes(lines):\n",
    "    return prod(count_trees(lines, dx, dy) for dx, dy in SLOPES)"
   ]
  },
  {
   "cell_type": "code",
   "execution_count": 30,
   "metadata": {},
   "outputs": [],
   "source": [
    "EXPECTED = [2, 7, 3, 4, 2]\n",
    "for (dx, dy), expected in zip(SLOPES, EXPECTED):\n",
    "    assert count_trees(DAY03_TEST, dx, dy) == expected"
   ]
  },
  {
   "cell_type": "code",
   "execution_count": 31,
   "metadata": {},
   "outputs": [],
   "source": [
    "assert prod_count_trees_for_slopes(DAY03_TEST) == 336"
   ]
  },
  {
   "cell_type": "code",
   "execution_count": 32,
   "metadata": {},
   "outputs": [],
   "source": [
    "assert prod_count_trees_for_slopes(DAY03_DATA) == 6708199680"
   ]
  },
  {
   "cell_type": "markdown",
   "metadata": {},
   "source": [
    "## Day 4"
   ]
  },
  {
   "cell_type": "code",
   "execution_count": 33,
   "metadata": {},
   "outputs": [],
   "source": [
    "def parse_passports(text):\n",
    "    return [\n",
    "        dict(key_val.split(\":\") for key_val in passport.split())\n",
    "        for passport in text.split(\"\\n\\n\")\n",
    "    ]"
   ]
  },
  {
   "cell_type": "code",
   "execution_count": 34,
   "metadata": {},
   "outputs": [],
   "source": [
    "DAY04_TEST = \"\"\"\\\n",
    "ecl:gry pid:860033327 eyr:2020 hcl:#fffffd\n",
    "byr:1937 iyr:2017 cid:147 hgt:183cm\n",
    "\n",
    "iyr:2013 ecl:amb cid:350 eyr:2023 pid:028048884\n",
    "hcl:#cfa07d byr:1929\n",
    "\n",
    "hcl:#ae17e1 iyr:2013\n",
    "eyr:2024\n",
    "ecl:brn pid:760753108 byr:1931\n",
    "hgt:179cm\n",
    "\n",
    "hcl:#cfa07d eyr:2025 pid:166559648\n",
    "iyr:2011 ecl:brn hgt:59in\n",
    "\"\"\"\n",
    "DAY04_TEST = parse_passports(DAY04_TEST)\n",
    "DAY04_DATA = parse_passports(read(\"data/day04.txt\"))"
   ]
  },
  {
   "cell_type": "code",
   "execution_count": 35,
   "metadata": {},
   "outputs": [],
   "source": [
    "REQUIRED = set(\"byr iyr eyr hgt hcl ecl pid\".split())\n",
    "\n",
    "def is_passport_keys_valid(p):\n",
    "    return set(p.keys()).issuperset(REQUIRED)"
   ]
  },
  {
   "cell_type": "code",
   "execution_count": 36,
   "metadata": {},
   "outputs": [],
   "source": [
    "def count_valid_passports(passports, is_valid):\n",
    "    return sum(is_valid(p) for p in passports)"
   ]
  },
  {
   "cell_type": "code",
   "execution_count": 37,
   "metadata": {},
   "outputs": [],
   "source": [
    "assert count_valid_passports(DAY04_TEST, is_passport_keys_valid) == 2"
   ]
  },
  {
   "cell_type": "code",
   "execution_count": 38,
   "metadata": {},
   "outputs": [],
   "source": [
    "assert count_valid_passports(DAY04_DATA, is_passport_keys_valid) == 210"
   ]
  },
  {
   "cell_type": "code",
   "execution_count": 39,
   "metadata": {},
   "outputs": [],
   "source": [
    "VALID_ECL = set(\"amb blu brn gry grn hzl oth\".split())\n",
    "\n",
    "def is_passport_valid(p):\n",
    "    if not is_passport_keys_valid(p): return False\n",
    "    if not (match := re.match(\"^(\\d+)(cm|in)$\", p[\"hgt\"])): return False\n",
    "    height, unit = match.groups()\n",
    "    height = int(height)\n",
    "    valid = {\n",
    "        \"byr\": 1920 <= int(p[\"byr\"]) <= 2002,\n",
    "        \"iyr\": 2010 <= int(p[\"iyr\"]) <= 2020,\n",
    "        \"eyr\": 2020 <= int(p[\"eyr\"]) <= 2030,\n",
    "        \"hgt\": (150 <= height <= 193 if unit == \"cm\" else 59 <= height <= 76),\n",
    "        \"hcl\": re.match(\"^\\#[0-9a-f]{6}$\", p[\"hcl\"]) is not None,\n",
    "        \"ecl\": p[\"ecl\"] in VALID_ECL,\n",
    "        \"pid\": re.match(\"^\\d{9}$\", p[\"pid\"]) is not None\n",
    "    }\n",
    "    return all(valid.values())"
   ]
  },
  {
   "cell_type": "code",
   "execution_count": 40,
   "metadata": {},
   "outputs": [],
   "source": [
    "INVALID_PASSPORTS = parse_passports(\n",
    "\"\"\"\\\n",
    "eyr:1972 cid:100\n",
    "hcl:#18171d ecl:amb hgt:170 pid:186cm iyr:2018 byr:1926\n",
    "\n",
    "iyr:2019\n",
    "hcl:#602927 eyr:1967 hgt:170cm\n",
    "ecl:grn pid:012533040 byr:1946\n",
    "\n",
    "hcl:dab227 iyr:2012\n",
    "ecl:brn hgt:182cm pid:021572410 eyr:2020 byr:1992 cid:277\n",
    "\n",
    "hgt:59cm ecl:zzz\n",
    "eyr:2038 hcl:74454a iyr:2023\n",
    "pid:3556412378 byr:2007\n",
    "\"\"\"\n",
    ")\n",
    "VALID_PASSPORTS = parse_passports(\n",
    "\"\"\"\\\n",
    "pid:087499704 hgt:74in ecl:grn iyr:2012 eyr:2030 byr:1980\n",
    "hcl:#623a2f\n",
    "\n",
    "eyr:2029 ecl:blu cid:129 byr:1989\n",
    "iyr:2014 pid:896056539 hcl:#a97842 hgt:165cm\n",
    "\n",
    "hcl:#888785\n",
    "hgt:164cm byr:2001 iyr:2015 cid:88\n",
    "pid:545766238 ecl:hzl\n",
    "eyr:2022\n",
    "\n",
    "iyr:2010 hgt:158cm hcl:#b6652a ecl:blu byr:1944 eyr:2021 pid:093154719\n",
    "\"\"\"\n",
    ")\n",
    "\n",
    "for p in VALID_PASSPORTS:\n",
    "    assert is_passport_valid(p)\n",
    "\n",
    "for p in INVALID_PASSPORTS:\n",
    "    assert not is_passport_valid(p)"
   ]
  },
  {
   "cell_type": "code",
   "execution_count": 41,
   "metadata": {},
   "outputs": [],
   "source": [
    "assert count_valid_passports(DAY04_DATA, is_passport_valid) == 131"
   ]
  },
  {
   "cell_type": "markdown",
   "metadata": {},
   "source": [
    "## Day 5"
   ]
  },
  {
   "cell_type": "code",
   "execution_count": 42,
   "metadata": {},
   "outputs": [],
   "source": [
    "def decode(chars, low, up):\n",
    "    for char in chars:\n",
    "        mid = (low + up) / 2\n",
    "        if char in \"FL\": up  = floor(mid)\n",
    "        else:            low = ceil(mid)\n",
    "    return low\n",
    "\n",
    "def parse_seat_id(line):\n",
    "    row, col = decode(line[:7], 0, 127), decode(line[7:], 0, 7)\n",
    "    return 8 * row + col\n",
    "\n",
    "def parse_seat_ids(text):\n",
    "    return mapl(parse_seat_id, split(text))"
   ]
  },
  {
   "cell_type": "code",
   "execution_count": 43,
   "metadata": {},
   "outputs": [],
   "source": [
    "DAY05_TEST = \"\"\"\n",
    "FBFBBFFRLR\n",
    "BFFFBBFRRR\n",
    "FFFBBBFRRR\n",
    "BBFFBBFRLL\n",
    "\"\"\"\n",
    "DAY05_TEST = parse_seat_ids(DAY05_TEST)\n",
    "DAY05_DATA = parse_seat_ids(read(\"data/day05.txt\"))"
   ]
  },
  {
   "cell_type": "code",
   "execution_count": 44,
   "metadata": {},
   "outputs": [],
   "source": [
    "TEST_SEAT_IDS = [357, 567, 119, 820]\n",
    "for sid, exp in zip(DAY05_TEST, TEST_SEAT_IDS):\n",
    "    assert sid == exp"
   ]
  },
  {
   "cell_type": "code",
   "execution_count": 45,
   "metadata": {},
   "outputs": [],
   "source": [
    "assert max(DAY05_DATA) == 913"
   ]
  },
  {
   "cell_type": "code",
   "execution_count": 46,
   "metadata": {},
   "outputs": [],
   "source": [
    "assert set(range(min(DAY05_DATA), max(DAY05_DATA) + 1)) - set(DAY05_DATA) == {717}"
   ]
  },
  {
   "cell_type": "markdown",
   "metadata": {},
   "source": [
    "## Day 6"
   ]
  },
  {
   "cell_type": "code",
   "execution_count": 47,
   "metadata": {},
   "outputs": [],
   "source": [
    "def parse_customs_forms(text):\n",
    "    return [\n",
    "        [set(x) for x in group.split(\"\\n\")]\n",
    "        for group in text.strip().split(\"\\n\\n\")\n",
    "    ]"
   ]
  },
  {
   "cell_type": "code",
   "execution_count": 48,
   "metadata": {},
   "outputs": [],
   "source": [
    "DAY06_TEST = \"\"\"\\\n",
    "abc\n",
    "\n",
    "a\n",
    "b\n",
    "c\n",
    "\n",
    "ab\n",
    "ac\n",
    "\n",
    "a\n",
    "a\n",
    "a\n",
    "a\n",
    "\n",
    "b\n",
    "\"\"\"\n",
    "DAY06_TEST = parse_customs_forms(DAY06_TEST)\n",
    "DAY06_DATA = parse_customs_forms(read(\"data/day06.txt\"))"
   ]
  },
  {
   "cell_type": "code",
   "execution_count": 49,
   "metadata": {},
   "outputs": [],
   "source": [
    "def count_answers(forms, set_agg):\n",
    "    return sum(len(set_agg(*x)) for x in forms)"
   ]
  },
  {
   "cell_type": "code",
   "execution_count": 50,
   "metadata": {},
   "outputs": [],
   "source": [
    "assert count_answers(DAY06_TEST, set.union) == 11"
   ]
  },
  {
   "cell_type": "code",
   "execution_count": 51,
   "metadata": {},
   "outputs": [],
   "source": [
    "assert count_answers(DAY06_DATA, set.union) == 6930"
   ]
  },
  {
   "cell_type": "code",
   "execution_count": 52,
   "metadata": {},
   "outputs": [],
   "source": [
    "assert count_answers(DAY06_TEST, set.intersection) == 6"
   ]
  },
  {
   "cell_type": "code",
   "execution_count": 53,
   "metadata": {},
   "outputs": [],
   "source": [
    "assert count_answers(DAY06_DATA, set.intersection) == 3585"
   ]
  },
  {
   "cell_type": "markdown",
   "metadata": {},
   "source": [
    "## Day 7"
   ]
  },
  {
   "cell_type": "code",
   "execution_count": 54,
   "metadata": {},
   "outputs": [],
   "source": [
    "DAY07_TEST = \"\"\"\n",
    "light red bags contain 1 bright white bag, 2 muted yellow bags.\n",
    "dark orange bags contain 3 bright white bags, 4 muted yellow bags.\n",
    "bright white bags contain 1 shiny gold bag.\n",
    "muted yellow bags contain 2 shiny gold bags, 9 faded blue bags.\n",
    "shiny gold bags contain 1 dark olive bag, 2 vibrant plum bags.\n",
    "dark olive bags contain 3 faded blue bags, 4 dotted black bags.\n",
    "vibrant plum bags contain 5 faded blue bags, 6 dotted black bags.\n",
    "faded blue bags contain no other bags.\n",
    "dotted black bags contain no other bags.\n",
    "\"\"\"\n",
    "DAY07_TEST = split(DAY07_TEST)\n",
    "DAY07_DATA = split(read(\"data/day07.txt\"))"
   ]
  },
  {
   "cell_type": "code",
   "execution_count": 55,
   "metadata": {},
   "outputs": [],
   "source": [
    "def parse_bag(s):\n",
    "    if s.startswith(\"no\"): return None\n",
    "    n, rest = s.split(\" \", 1)\n",
    "    return int(n), rest"
   ]
  },
  {
   "cell_type": "code",
   "execution_count": 56,
   "metadata": {},
   "outputs": [],
   "source": [
    "def parse_containing_bags(lines):\n",
    "    nodes = defaultdict(list)\n",
    "\n",
    "    for line in lines:\n",
    "        key, to_str = line.split(\" bags contain \")\n",
    "        to_list = [parse_bag(s) for s in re.split(\" bags?(?:, |.)\", to_str)[:-1]]\n",
    "        for x in to_list:\n",
    "            if x:\n",
    "                nodes[x[1]].append(key)\n",
    "\n",
    "    return nodes"
   ]
  },
  {
   "cell_type": "code",
   "execution_count": 57,
   "metadata": {},
   "outputs": [],
   "source": [
    "def children(nodes, node, visited=set()):\n",
    "    if node not in nodes: return visited\n",
    "    visited = visited.union(nodes[node])\n",
    "    return set.union(visited, *(children(nodes, child, visited) for child in nodes[node]))"
   ]
  },
  {
   "cell_type": "code",
   "execution_count": 58,
   "metadata": {},
   "outputs": [],
   "source": [
    "def count_containing_bags(lines, color):\n",
    "    nodes = parse_containing_bags(lines)\n",
    "    return len(children(nodes, color))"
   ]
  },
  {
   "cell_type": "code",
   "execution_count": 59,
   "metadata": {},
   "outputs": [],
   "source": [
    "COLOR = \"shiny gold\""
   ]
  },
  {
   "cell_type": "code",
   "execution_count": 60,
   "metadata": {},
   "outputs": [],
   "source": [
    "assert count_containing_bags(DAY07_TEST, \"light red\") == 0\n",
    "assert count_containing_bags(DAY07_TEST, \"dark orange\") == 0\n",
    "assert count_containing_bags(DAY07_TEST, \"bright white\") == 2\n",
    "assert count_containing_bags(DAY07_TEST, \"muted yellow\") == 2\n",
    "assert count_containing_bags(DAY07_TEST, \"shiny gold\") == 4"
   ]
  },
  {
   "cell_type": "code",
   "execution_count": 61,
   "metadata": {},
   "outputs": [],
   "source": [
    "assert count_containing_bags(DAY07_DATA, COLOR) == 289"
   ]
  },
  {
   "cell_type": "code",
   "execution_count": 62,
   "metadata": {},
   "outputs": [],
   "source": [
    "def parse_contained_bags(lines):\n",
    "    nodes = defaultdict(list)\n",
    "\n",
    "    for line in lines:\n",
    "        key, to_str = line.split(\" bags contain \")\n",
    "        to_list = [parse_bag(s) for s in re.split(\" bags?(?:, |.)\", to_str)[:-1]]\n",
    "        for x in to_list:\n",
    "            if x:\n",
    "                nodes[key].append((x[0], x[1]))\n",
    "\n",
    "    return nodes"
   ]
  },
  {
   "cell_type": "code",
   "execution_count": 63,
   "metadata": {},
   "outputs": [],
   "source": [
    "def _count_contained_bags(nodes, node):\n",
    "    if node not in nodes: return 0\n",
    "    return sum(n * (1 + _count_contained_bags(nodes, child)) for n, child in nodes[node])"
   ]
  },
  {
   "cell_type": "code",
   "execution_count": 64,
   "metadata": {},
   "outputs": [],
   "source": [
    "def count_contained_bags(lines, color):\n",
    "    nodes = parse_contained_bags(lines)\n",
    "    return _count_contained_bags(nodes, color)"
   ]
  },
  {
   "cell_type": "code",
   "execution_count": 65,
   "metadata": {},
   "outputs": [],
   "source": [
    "assert count_contained_bags(DAY07_TEST, \"shiny gold\") == 32\n",
    "assert count_contained_bags(DAY07_TEST, \"faded blue\") == 0\n",
    "assert count_contained_bags(DAY07_TEST, \"dotted black\") == 0\n",
    "assert count_contained_bags(DAY07_TEST, \"dark olive\") == 7\n",
    "assert count_contained_bags(DAY07_TEST, \"vibrant plum\") == 11"
   ]
  },
  {
   "cell_type": "code",
   "execution_count": 66,
   "metadata": {},
   "outputs": [],
   "source": [
    "assert count_contained_bags(DAY07_DATA, COLOR) == 30055"
   ]
  },
  {
   "cell_type": "markdown",
   "metadata": {},
   "source": [
    "## Day 8"
   ]
  },
  {
   "cell_type": "code",
   "execution_count": 67,
   "metadata": {},
   "outputs": [],
   "source": [
    "def parse_ops(lines):\n",
    "    ops = []\n",
    "    for l in lines:\n",
    "        op, n = l.split()\n",
    "        ops.append((op, int(n)))\n",
    "    return ops"
   ]
  },
  {
   "cell_type": "code",
   "execution_count": 68,
   "metadata": {},
   "outputs": [],
   "source": [
    "DAY08_TEST = \"\"\"\n",
    "nop +0\n",
    "acc +1\n",
    "jmp +4\n",
    "acc +3\n",
    "jmp -3\n",
    "acc -99\n",
    "acc +1\n",
    "jmp -4\n",
    "acc +6\n",
    "\"\"\"\n",
    "DAY08_TEST = parse_ops(split(DAY08_TEST))\n",
    "DAY08_DATA = parse_ops(split(read(\"data/day08.txt\")))"
   ]
  },
  {
   "cell_type": "code",
   "execution_count": 69,
   "metadata": {},
   "outputs": [],
   "source": [
    "def run_ops(ops, pos=0, acc=0, visited=set()):\n",
    "    op, n = ops[pos]\n",
    "    if pos in visited:\n",
    "        return acc\n",
    "    visited = {*visited, pos}\n",
    "    if op == \"nop\":\n",
    "        return run_ops(ops, pos+1, acc, visited)\n",
    "    elif op == \"acc\":\n",
    "        return run_ops(ops, pos+1, acc+n, visited)\n",
    "    elif op == \"jmp\":\n",
    "        return run_ops(ops, pos+n, acc, visited)\n",
    "    else:\n",
    "        raise NotImplementedError()"
   ]
  },
  {
   "cell_type": "code",
   "execution_count": 70,
   "metadata": {},
   "outputs": [],
   "source": [
    "assert run_ops(DAY08_TEST) == 5"
   ]
  },
  {
   "cell_type": "code",
   "execution_count": 71,
   "metadata": {},
   "outputs": [],
   "source": [
    "assert run_ops(DAY08_DATA) == 2080"
   ]
  },
  {
   "cell_type": "code",
   "execution_count": 72,
   "metadata": {},
   "outputs": [],
   "source": [
    "class Program:\n",
    "    def __init__(self, ops):\n",
    "        self.ops = ops\n",
    "        self.pos = 0\n",
    "        self.acc = 0\n",
    "        self.visited = set()\n",
    "\n",
    "    def run(self):\n",
    "        if self.pos in self.visited:\n",
    "            return self.acc\n",
    "\n",
    "        self.visited = {*self.visited, self.pos}\n",
    "\n",
    "        op, n = self.ops[self.pos]\n",
    "        if op == \"nop\":\n",
    "            self.nop(n)\n",
    "        elif op == \"acc\":\n",
    "            self.accumulate(n)\n",
    "        elif op == \"jmp\":\n",
    "            self.jump(n)\n",
    "        else:\n",
    "            raise NotImplementedError()\n",
    "            \n",
    "        return self.run()\n",
    "\n",
    "    def nop(self, n):\n",
    "        self.pos += 1\n",
    "\n",
    "    def accumulate(self, n):\n",
    "        self.acc += n\n",
    "        self.pos += 1\n",
    "\n",
    "    def jump(self, n):\n",
    "        self.pos += n"
   ]
  },
  {
   "cell_type": "code",
   "execution_count": 73,
   "metadata": {},
   "outputs": [],
   "source": [
    "assert Program(DAY08_TEST).run() == 5"
   ]
  },
  {
   "cell_type": "code",
   "execution_count": 74,
   "metadata": {},
   "outputs": [],
   "source": [
    "assert Program(DAY08_DATA).run() == 2080"
   ]
  },
  {
   "cell_type": "code",
   "execution_count": 75,
   "metadata": {},
   "outputs": [],
   "source": [
    "def run_ops_2(ops, pos=0, acc=0, visited=set(), can_change=True):\n",
    "    if pos == len(ops):\n",
    "        return acc\n",
    "    op, n = ops[pos]\n",
    "    if pos in visited:\n",
    "        raise RecursionError(\"Visiting a visited op:\", pos, op, n)\n",
    "    visited = {*visited, pos}\n",
    "    if op == \"nop\":\n",
    "        # Try jumping\n",
    "        if can_change:\n",
    "            try:\n",
    "                ops2 = ops.copy()\n",
    "                ops2[pos] = (\"jmp\", n)\n",
    "                return run_ops_2(ops2, pos+n, acc, visited, can_change=False)\n",
    "            except RecursionError:\n",
    "                pass\n",
    "        return run_ops_2(ops, pos+1, acc, visited, can_change)\n",
    "    elif op == \"acc\":\n",
    "        return run_ops_2(ops, pos+1, acc+n, visited, can_change)\n",
    "    elif op == \"jmp\":\n",
    "        # Try noping\n",
    "        if can_change:\n",
    "            try:\n",
    "                ops2 = ops.copy()\n",
    "                ops2[pos] = (\"nop\", n)\n",
    "                return run_ops_2(ops2, pos+1, acc, visited, can_change=False)\n",
    "            except RecursionError:\n",
    "                pass\n",
    "        return run_ops_2(ops, pos+n, acc, visited, can_change)\n",
    "    else:\n",
    "        raise NotImplementedError()"
   ]
  },
  {
   "cell_type": "code",
   "execution_count": 76,
   "metadata": {},
   "outputs": [],
   "source": [
    "assert run_ops_2(DAY08_TEST) == 8"
   ]
  },
  {
   "cell_type": "code",
   "execution_count": 77,
   "metadata": {},
   "outputs": [
    {
     "data": {
      "text/plain": [
       "2477"
      ]
     },
     "execution_count": 77,
     "metadata": {},
     "output_type": "execute_result"
    }
   ],
   "source": [
    "run_ops_2(DAY08_DATA)"
   ]
  },
  {
   "cell_type": "markdown",
   "metadata": {},
   "source": [
    "## Day 9"
   ]
  },
  {
   "cell_type": "code",
   "execution_count": 78,
   "metadata": {},
   "outputs": [],
   "source": [
    "DAY09_TEST = \"\"\"\n",
    "35\n",
    "20\n",
    "15\n",
    "25\n",
    "47\n",
    "40\n",
    "62\n",
    "55\n",
    "65\n",
    "95\n",
    "102\n",
    "117\n",
    "150\n",
    "182\n",
    "127\n",
    "219\n",
    "299\n",
    "277\n",
    "309\n",
    "576\n",
    "\"\"\"\n",
    "DAY09_TEST = split_ints(DAY09_TEST)\n",
    "DAY09_DATA = split_ints(read(\"data/day09.txt\"))"
   ]
  },
  {
   "cell_type": "code",
   "execution_count": 79,
   "metadata": {},
   "outputs": [],
   "source": [
    "def first(ints, window_size):\n",
    "    end = window_size\n",
    "    for x in ints[end:]:\n",
    "        start = end - window_size\n",
    "        try:\n",
    "            next(True for y in combinations(ints[start:end], 2) if sum(y) == x)\n",
    "        except StopIteration:\n",
    "            return x\n",
    "        end += 1"
   ]
  },
  {
   "cell_type": "code",
   "execution_count": 80,
   "metadata": {},
   "outputs": [],
   "source": [
    "assert first(DAY09_TEST, 5) == 127"
   ]
  },
  {
   "cell_type": "code",
   "execution_count": 81,
   "metadata": {},
   "outputs": [],
   "source": [
    "assert first(DAY09_DATA, 25) == 26134589"
   ]
  },
  {
   "cell_type": "code",
   "execution_count": 82,
   "metadata": {},
   "outputs": [],
   "source": [
    "def calc_ranges(i):\n",
    "    if i <= 1: return []\n",
    "    return [(j, i) for j in range(1, i)]"
   ]
  },
  {
   "cell_type": "code",
   "execution_count": 83,
   "metadata": {},
   "outputs": [],
   "source": [
    "assert calc_ranges(1) == []\n",
    "assert calc_ranges(2) == [(1, 2)]\n",
    "assert calc_ranges(3) == [(1, 3), (2, 3)]\n",
    "assert calc_ranges(4) == [(1, 4), (2, 4), (3, 4)]"
   ]
  },
  {
   "cell_type": "code",
   "execution_count": 84,
   "metadata": {},
   "outputs": [],
   "source": [
    "def func(ints, eq):\n",
    "    for i, x in enumerate(ints):\n",
    "        ranges = calc_ranges(i)\n",
    "        for start, end in ranges:\n",
    "            s = sum(ints[start:end])\n",
    "            if s == eq:\n",
    "                return min(ints[start:end]) + max(ints[start:end])\n",
    "    assert False"
   ]
  },
  {
   "cell_type": "code",
   "execution_count": 85,
   "metadata": {},
   "outputs": [],
   "source": [
    "assert func(DAY09_TEST, 127) == 62"
   ]
  },
  {
   "cell_type": "code",
   "execution_count": 86,
   "metadata": {},
   "outputs": [],
   "source": [
    "assert func(DAY09_DATA, 26134589) == 3535124"
   ]
  },
  {
   "cell_type": "markdown",
   "metadata": {},
   "source": [
    "## Day 10"
   ]
  },
  {
   "cell_type": "code",
   "execution_count": 87,
   "metadata": {},
   "outputs": [],
   "source": [
    "DAY10_TEST1 = \"\"\"\n",
    "16\n",
    "10\n",
    "15\n",
    "5\n",
    "1\n",
    "11\n",
    "7\n",
    "19\n",
    "6\n",
    "12\n",
    "4\n",
    "\"\"\"\n",
    "DAY10_TEST1 = split_ints(DAY10_TEST1)\n",
    "DAY10_TEST2 = \"\"\"\n",
    "28\n",
    "33\n",
    "18\n",
    "42\n",
    "31\n",
    "14\n",
    "46\n",
    "20\n",
    "48\n",
    "47\n",
    "24\n",
    "23\n",
    "49\n",
    "45\n",
    "19\n",
    "38\n",
    "39\n",
    "11\n",
    "1\n",
    "32\n",
    "25\n",
    "35\n",
    "8\n",
    "17\n",
    "7\n",
    "9\n",
    "4\n",
    "2\n",
    "34\n",
    "10\n",
    "3\n",
    "\"\"\"\n",
    "DAY10_TEST2 = split_ints(DAY10_TEST2)\n",
    "DAY10_DATA = split_ints(read(\"data/day10.txt\"))"
   ]
  },
  {
   "cell_type": "code",
   "execution_count": 88,
   "metadata": {},
   "outputs": [],
   "source": [
    "def count_jolt_diff(ints):\n",
    "    ints = sorted([0] + ints + [max(ints) + 3])\n",
    "    diffs = [b - a for a, b in zip(ints, ints[1:])]\n",
    "    counts = Counter(diffs)\n",
    "    return counts[1] * counts[3]"
   ]
  },
  {
   "cell_type": "code",
   "execution_count": 89,
   "metadata": {},
   "outputs": [],
   "source": [
    "assert count_jolt_diff(DAY10_TEST1) == 7 * 5"
   ]
  },
  {
   "cell_type": "code",
   "execution_count": 90,
   "metadata": {},
   "outputs": [],
   "source": [
    "assert count_jolt_diff(DAY10_TEST2) == 22 * 10"
   ]
  },
  {
   "cell_type": "code",
   "execution_count": 91,
   "metadata": {},
   "outputs": [],
   "source": [
    "assert count_jolt_diff(DAY10_DATA) == 1984"
   ]
  },
  {
   "cell_type": "code",
   "execution_count": 92,
   "metadata": {},
   "outputs": [],
   "source": [
    "def count_paths(ints, pos=0, paths=1):\n",
    "    if pos >= len(ints):\n",
    "        return paths\n",
    "    \n",
    "    if pos < len(ints) - 2:\n",
    "        diff = ints[pos+2] - ints[pos]\n",
    "        if diff <= 3:\n",
    "            paths = count_paths(ints, pos+2, paths+1)\n",
    "\n",
    "    if pos < len(ints) - 3:\n",
    "        diff = ints[pos+3] - ints[pos]\n",
    "        if diff <= 3:\n",
    "            paths = count_paths(ints, pos+3, paths+1)\n",
    "\n",
    "    paths = count_paths(ints, pos+1, paths)\n",
    "\n",
    "    return paths"
   ]
  },
  {
   "cell_type": "code",
   "execution_count": 93,
   "metadata": {},
   "outputs": [],
   "source": [
    "def func(ints):\n",
    "    ints = [0] + sorted(ints) + [max(ints) + 3]\n",
    "\n",
    "    splits = []\n",
    "    last = 0\n",
    "    for i, _ in enumerate(ints):\n",
    "        if ints[i] - ints[i-1] >= 3:\n",
    "            splits.append(ints[last:i])\n",
    "            last = i\n",
    "            \n",
    "    return prod(count_paths(s) for s in splits)"
   ]
  },
  {
   "cell_type": "code",
   "execution_count": 94,
   "metadata": {},
   "outputs": [],
   "source": [
    "assert func(DAY10_TEST1) == 8"
   ]
  },
  {
   "cell_type": "code",
   "execution_count": 95,
   "metadata": {},
   "outputs": [],
   "source": [
    "assert func(DAY10_TEST2) == 19208"
   ]
  },
  {
   "cell_type": "code",
   "execution_count": 96,
   "metadata": {},
   "outputs": [],
   "source": [
    "assert func(DAY10_DATA) == 3543369523456"
   ]
  },
  {
   "cell_type": "markdown",
   "metadata": {},
   "source": [
    "## Day 11"
   ]
  },
  {
   "cell_type": "code",
   "execution_count": 97,
   "metadata": {},
   "outputs": [],
   "source": [
    "def split_array(text):\n",
    "    return np.array([[CHAR_TO_INT[c] for c in l] for l in text.strip().split(\"\\n\")])"
   ]
  },
  {
   "cell_type": "code",
   "execution_count": 98,
   "metadata": {},
   "outputs": [],
   "source": [
    "class Seat(Enum):\n",
    "    EMPTY = \"L\"\n",
    "    OCCUPIED = \"#\""
   ]
  },
  {
   "cell_type": "code",
   "execution_count": 99,
   "metadata": {},
   "outputs": [],
   "source": [
    "@dataclass\n",
    "class SeatMatrix(Mapping):\n",
    "    seats: Dict[Tuple[int, int], Seat]\n",
    "    shape: Tuple[int, int]\n",
    "\n",
    "    def __repr__(self):\n",
    "        res = \"\"\n",
    "        for i in range(self.shape[0]):\n",
    "            for j in range(self.shape[1]):\n",
    "                seat = self.seats.get((i, j))\n",
    "                res += seat.value if seat else \".\"\n",
    "            res += \"\\n\"\n",
    "        return res\n",
    "\n",
    "    def __getitem__(self, key):\n",
    "        return self.seats[key]\n",
    "\n",
    "    def __iter__(self):\n",
    "        return iter(self.seats)\n",
    "\n",
    "    def __len__(self):\n",
    "        return len(self.seats)\n",
    "\n",
    "    "
   ]
  },
  {
   "cell_type": "code",
   "execution_count": 100,
   "metadata": {},
   "outputs": [],
   "source": [
    "def parse_seats(text):\n",
    "    lines = split(text)\n",
    "    seats = {}\n",
    "    for x, line in enumerate(lines):\n",
    "        for y, char in enumerate(line):\n",
    "            if char != \".\":\n",
    "                seats[x, y] = Seat(char)\n",
    "    shape = max(x for x, _ in seats.keys()), max(y for y, _ in seats.keys())\n",
    "    return SeatMatrix(seats, shape)"
   ]
  },
  {
   "cell_type": "code",
   "execution_count": 101,
   "metadata": {},
   "outputs": [],
   "source": [
    "DAY11_TEST = \"\"\"\n",
    "L.LL.LL.LL\n",
    "LLLLLLL.LL\n",
    "L.L.L..L..\n",
    "LLLL.LL.LL\n",
    "L.LL.LL.LL\n",
    "L.LLLLL.LL\n",
    "..L.L.....\n",
    "LLLLLLLLLL\n",
    "L.LLLLLL.L\n",
    "L.LLLLL.LL\n",
    "\"\"\"\n",
    "DAY11_TEST = parse_seats(DAY11_TEST)\n",
    "DAY11_DATA = parse_seats(read(\"data/day11.txt\"))"
   ]
  },
  {
   "cell_type": "code",
   "execution_count": 102,
   "metadata": {},
   "outputs": [],
   "source": [
    "DIRECTIONS = [(dx, dy) for dx, dy in product((-1, 0, 1), repeat=2) if (dx, dy) != (0, 0)]\n",
    "\n",
    "def rays(seats, i, j, length=1):\n",
    "    for dx, dy in DIRECTIONS:\n",
    "        x, y = i, j\n",
    "        for _ in range(length):\n",
    "            x += dx\n",
    "            y += dy\n",
    "            if x < 0 or x >= seats.shape[0] or y < 0 or y >= seats.shape[1]:\n",
    "                break\n",
    "            seat = seats.get((x, y))\n",
    "            if seat:\n",
    "                yield seat\n",
    "                break"
   ]
  },
  {
   "cell_type": "code",
   "execution_count": 103,
   "metadata": {},
   "outputs": [],
   "source": [
    "def evolve(seats):\n",
    "    res = seats.copy()\n",
    "    for (i, j), seat in seats.items():\n",
    "        n_occupied = sum(n == Seat.OCCUPIED for n in rays(seats, i, j, length=1))\n",
    "        if seat == Seat.EMPTY and n_occupied == 0:\n",
    "            res[(i, j)] = Seat.OCCUPIED\n",
    "        elif seat == Seat.OCCUPIED and n_occupied >= 4:\n",
    "            res[(i, j)] = Seat.EMPTY\n",
    "    return res"
   ]
  },
  {
   "cell_type": "code",
   "execution_count": 104,
   "metadata": {},
   "outputs": [],
   "source": [
    "def func(seats):\n",
    "    prev = None\n",
    "    while not np.all(prev == seats):\n",
    "        prev = seats\n",
    "        seats = evolve(seats)\n",
    "    return sum(s == Seat.OCCUPIED for s in seats)"
   ]
  },
  {
   "cell_type": "code",
   "execution_count": 105,
   "metadata": {},
   "outputs": [],
   "source": [
    "def print_seats(seats, shape):\n",
    "    for i in range(shape[0]):\n",
    "        for j in range(shape[1]):\n",
    "            seat = seats.get((i, j))\n",
    "            seat = seat.value if seat else \".\"\n",
    "            print(seat, end=\"\")\n",
    "        print()"
   ]
  },
  {
   "cell_type": "code",
   "execution_count": 106,
   "metadata": {},
   "outputs": [],
   "source": [
    "# evolve(seats)"
   ]
  },
  {
   "cell_type": "code",
   "execution_count": 107,
   "metadata": {},
   "outputs": [],
   "source": [
    "def count_occ(arr, i, j):\n",
    "    n_occ = 0\n",
    "    for dx, dy in SLOPES:\n",
    "        xi, yi = i, j\n",
    "        while True:\n",
    "            xi, yi = xi + dx, yi + dy\n",
    "            if xi >= arr.shape[0] or xi < 0 or yi >= arr.shape[1] or yi < 0:\n",
    "                break\n",
    "            if arr[xi, yi] == OCC:\n",
    "                n_occ += 1\n",
    "            if arr[xi, yi] != FLOOR:\n",
    "                break\n",
    "    return n_occ"
   ]
  },
  {
   "cell_type": "code",
   "execution_count": 108,
   "metadata": {},
   "outputs": [],
   "source": [
    "def evolve2(arr):\n",
    "    res = arr.copy()\n",
    "    for i in range(arr.shape[0]):\n",
    "        for j in range(arr.shape[1]):\n",
    "            x = res[i, j]\n",
    "            if x == FLOOR:\n",
    "                continue\n",
    "            n = rays(arr, i, j)\n",
    "            n_occ = sum(arr[x, y] == OCC for x, y in n)\n",
    "            if x == EMPTY:\n",
    "                if not n_occ:\n",
    "                    res[i, j] = OCC\n",
    "            elif x == OCC:\n",
    "                if n_occ >= 5:  # 4 (neighbors) + 1 (current)\n",
    "                    res[i, j] = EMPTY\n",
    "    return res"
   ]
  },
  {
   "cell_type": "code",
   "execution_count": 109,
   "metadata": {},
   "outputs": [],
   "source": [
    "# arr = DAY11_DATA.copy()\n",
    "# prev = None\n",
    "# while not np.all(prev == arr):\n",
    "#     prev = arr\n",
    "#     arr = evolve2(arr)\n",
    "# assert np.sum(arr == OCC) == 1978"
   ]
  },
  {
   "cell_type": "markdown",
   "metadata": {},
   "source": [
    "## Day 12"
   ]
  },
  {
   "cell_type": "code",
   "execution_count": 110,
   "metadata": {},
   "outputs": [],
   "source": [
    "def parse_instructions(text):\n",
    "    return [(l[0], int(l[1:])) for l in split(text)]"
   ]
  },
  {
   "cell_type": "code",
   "execution_count": 111,
   "metadata": {},
   "outputs": [],
   "source": [
    "DAY12_TEST = \"\"\"\n",
    "F10\n",
    "N3\n",
    "F7\n",
    "R90\n",
    "F11\n",
    "\"\"\"\n",
    "DAY12_TEST = parse_instructions(DAY12_TEST)\n",
    "DAY12_DATA = parse_instructions(read(\"data/day12.txt\"))"
   ]
  },
  {
   "cell_type": "code",
   "execution_count": 112,
   "metadata": {},
   "outputs": [],
   "source": [
    "def rotate_ccw(x, y, deg):\n",
    "    rad = radians(deg)\n",
    "    x2 = x * cos(rad) - y * sin(rad)\n",
    "    y2 = x * sin(rad) + y * cos(rad)\n",
    "    return int(round(x2)), int(round(y2))\n",
    "\n",
    "def rotate_cw(x, y, deg):\n",
    "    return rotate_ccw(x, y, -deg)"
   ]
  },
  {
   "cell_type": "code",
   "execution_count": 113,
   "metadata": {},
   "outputs": [],
   "source": [
    "def navigate(instructions, dx=1, dy=0):\n",
    "    x, y = 0, 0\n",
    "    for code, n in instructions:\n",
    "        if code == \"F\":\n",
    "            x += dx * n\n",
    "            y += dy * n\n",
    "        elif code == \"N\":\n",
    "            y += n\n",
    "        elif code == \"E\":\n",
    "            x += n\n",
    "        elif code == \"S\":\n",
    "            y -= n\n",
    "        elif code == \"W\":\n",
    "            x -= n\n",
    "        elif code == \"L\":\n",
    "            dx, dy = rotate_ccw(dx, dy, n)\n",
    "        elif code == \"R\":\n",
    "            dx, dy = rotate_cw(dx, dy, n)\n",
    "    return abs(x) + abs(y)"
   ]
  },
  {
   "cell_type": "code",
   "execution_count": 114,
   "metadata": {},
   "outputs": [],
   "source": [
    "assert navigate(DAY12_TEST) == 25"
   ]
  },
  {
   "cell_type": "code",
   "execution_count": 115,
   "metadata": {},
   "outputs": [],
   "source": [
    "assert navigate(DAY12_DATA) == 521"
   ]
  },
  {
   "cell_type": "code",
   "execution_count": 116,
   "metadata": {},
   "outputs": [],
   "source": [
    "def navigate2(instructions, dx=10, dy=1):\n",
    "    x, y = 0, 0\n",
    "    for code, n in instructions:\n",
    "        if code == \"F\":\n",
    "            x += dx * n\n",
    "            y += dy * n\n",
    "        elif code == \"N\":\n",
    "            dy += n\n",
    "        elif code == \"E\":\n",
    "            dx += n\n",
    "        elif code == \"S\":\n",
    "            dy -= n\n",
    "        elif code == \"W\":\n",
    "            dx -= n\n",
    "        elif code == \"L\":\n",
    "            dx, dy = rotate_ccw(dx, dy, n)\n",
    "        elif code == \"R\":\n",
    "            dx, dy = rotate_cw(dx, dy, n)\n",
    "    return abs(x) + abs(y)"
   ]
  },
  {
   "cell_type": "code",
   "execution_count": 117,
   "metadata": {},
   "outputs": [],
   "source": [
    "assert navigate2(DAY12_TEST) == 286"
   ]
  },
  {
   "cell_type": "code",
   "execution_count": 118,
   "metadata": {},
   "outputs": [],
   "source": [
    "assert navigate2(DAY12_DATA) == 22848"
   ]
  },
  {
   "cell_type": "markdown",
   "metadata": {},
   "source": [
    "## Day 13"
   ]
  },
  {
   "cell_type": "code",
   "execution_count": 119,
   "metadata": {},
   "outputs": [],
   "source": [
    "# DAY13_TEST = \"\"\"\n",
    "# \"\"\"\n",
    "# DAY13_TEST = split(DAY13_TEST)\n",
    "# DAY13_DATA = split(read(\"data/day13.txt\"))"
   ]
  },
  {
   "cell_type": "markdown",
   "metadata": {},
   "source": [
    "## Day 14"
   ]
  },
  {
   "cell_type": "code",
   "execution_count": 120,
   "metadata": {},
   "outputs": [],
   "source": [
    "DOCKING_PATTERNS = [\n",
    "    (\"mem\", r\"^mem\\[(\\d+)\\] = (\\d+)$\"),\n",
    "    (\"mask\", r\"^mask = ([X01]{36})$\"),\n",
    "]\n",
    "\n",
    "def parse_docking_program(text):\n",
    "    program = []\n",
    "    for line in split(text):\n",
    "        for key, pat in DOCKING_PATTERNS:\n",
    "            if match := re.match(pat, line):\n",
    "                program.append((key, *match.groups()))\n",
    "                break\n",
    "        else:\n",
    "            raise ValueError(f\"Could not parse line: '{line}'\")\n",
    "    return program"
   ]
  },
  {
   "cell_type": "code",
   "execution_count": 121,
   "metadata": {},
   "outputs": [],
   "source": [
    "DAY14_TEST = \"\"\"\n",
    "mask = XXXXXXXXXXXXXXXXXXXXXXXXXXXXX1XXXX0X\n",
    "mem[8] = 11\n",
    "mem[7] = 101\n",
    "mem[8] = 0\n",
    "\"\"\"\n",
    "DAY14_TEST = parse_docking_program(DAY14_TEST)\n",
    "DAY14_DATA = parse_docking_program(read(\"data/day14.txt\"))"
   ]
  },
  {
   "cell_type": "code",
   "execution_count": 122,
   "metadata": {},
   "outputs": [],
   "source": [
    "def run_docking_program(program):\n",
    "    mask = {}\n",
    "    mem = {}\n",
    "    for p in program:\n",
    "        op = p[0]\n",
    "        vals = p[1:]\n",
    "        if op == \"mask\":\n",
    "            mask_str = vals[0]\n",
    "            mask = dict((i, x) for i, x in enumerate(mask_str) if x != \"X\")\n",
    "        elif op == \"mem\":\n",
    "            key = int(vals[0])\n",
    "            val = int(vals[1])\n",
    "            val_bin = format(int(val), \"036b\")    # 0-padded 36-length binary string\n",
    "            masked_val_bin = \"\".join(mask.get(i) or x for i, x in enumerate(val_bin))\n",
    "            masked_val = int(masked_val_bin, 2)\n",
    "            mem[key] = masked_val\n",
    "    return sum(mem.values())"
   ]
  },
  {
   "cell_type": "code",
   "execution_count": 123,
   "metadata": {},
   "outputs": [],
   "source": [
    "assert run_docking_program(DAY14_TEST) == 165"
   ]
  },
  {
   "cell_type": "code",
   "execution_count": 124,
   "metadata": {},
   "outputs": [],
   "source": [
    "assert run_docking_program(DAY14_DATA) == 11612740949946"
   ]
  },
  {
   "cell_type": "code",
   "execution_count": 125,
   "metadata": {},
   "outputs": [],
   "source": [
    "DAY14_TEST2 = \"\"\"\n",
    "mask = 000000000000000000000000000000X1001X\n",
    "mem[42] = 100\n",
    "mask = 00000000000000000000000000000000X0XX\n",
    "mem[26] = 1\n",
    "\"\"\"\n",
    "DAY14_TEST2 = parse_docking_program(DAY14_TEST2)"
   ]
  },
  {
   "cell_type": "code",
   "execution_count": 126,
   "metadata": {},
   "outputs": [],
   "source": [
    "def run_docking_program2(program):\n",
    "    mask_to_1 = []\n",
    "    mask_to_floating = []\n",
    "    mem = {}\n",
    "    for p in program:\n",
    "        op = p[0]\n",
    "        vals = p[1:]\n",
    "        if op == \"mask\":\n",
    "            mask_str = vals[0]\n",
    "            mask_to_1 = []\n",
    "            mask_to_floating = []\n",
    "            for i, x in enumerate(mask_str):\n",
    "                if x == \"1\":   mask_to_1.append(i)\n",
    "                elif x == \"X\": mask_to_floating.append(i)\n",
    "        elif op == \"mem\":\n",
    "            key = int(vals[0])\n",
    "            val = int(vals[1])\n",
    "\n",
    "            key_bin = list(format(key, \"036b\"))    # 0-padded 36-length binary string\n",
    "            for i in mask_to_1:\n",
    "                key_bin[i] = \"1\"\n",
    "\n",
    "            for floating in product([\"0\", \"1\"], repeat=len(mask_to_floating)):\n",
    "                for i, v in zip(mask_to_floating, floating):\n",
    "                    key_bin[i] = v\n",
    "                mem[int(\"\".join(key_bin), 2)] = val\n",
    "\n",
    "    return sum(mem.values())"
   ]
  },
  {
   "cell_type": "code",
   "execution_count": 127,
   "metadata": {},
   "outputs": [],
   "source": [
    "assert run_docking_program2(DAY14_TEST2) == 208"
   ]
  },
  {
   "cell_type": "code",
   "execution_count": 128,
   "metadata": {},
   "outputs": [],
   "source": [
    "assert run_docking_program2(DAY14_DATA) == 3394509207186"
   ]
  }
 ],
 "metadata": {
  "kernelspec": {
   "display_name": "Python 3",
   "language": "python",
   "name": "python3"
  },
  "language_info": {
   "codemirror_mode": {
    "name": "ipython",
    "version": 3
   },
   "file_extension": ".py",
   "mimetype": "text/x-python",
   "name": "python",
   "nbconvert_exporter": "python",
   "pygments_lexer": "ipython3",
   "version": "3.8.5"
  }
 },
 "nbformat": 4,
 "nbformat_minor": 4
}
