{
 "cells": [
  {
   "cell_type": "code",
   "execution_count": 1,
   "metadata": {},
   "outputs": [],
   "source": [
    "import re\n",
    "from collections import Counter, OrderedDict\n",
    "from dataclasses import dataclass\n",
    "from functools import partial\n",
    "from math import ceil, floor, prod\n",
    "from itertools import combinations\n",
    "from typing import Any, Dict, List, Tuple\n",
    "\n",
    "import numpy as np"
   ]
  },
  {
   "cell_type": "markdown",
   "metadata": {},
   "source": [
    "## Utils"
   ]
  },
  {
   "cell_type": "code",
   "execution_count": 2,
   "metadata": {},
   "outputs": [],
   "source": [
    "def read(path):\n",
    "    with open(path) as f: return f.read()"
   ]
  },
  {
   "cell_type": "code",
   "execution_count": 3,
   "metadata": {},
   "outputs": [],
   "source": [
    "def mapl(func, iterable, level=1):\n",
    "    if level == 0: return func(iterable)\n",
    "    return [mapl(func, i, level - 1) for i in iterable]"
   ]
  },
  {
   "cell_type": "code",
   "execution_count": 4,
   "metadata": {},
   "outputs": [],
   "source": [
    "a = [[[0, 1, 2], [3]], [[4]]]\n",
    "assert mapl(str, a, 3) == [[[\"0\", \"1\", \"2\"], [\"3\"]], [[\"4\"]]]\n",
    "assert mapl(tuple, a, 2) == [[(0, 1, 2), (3,)], [(4,)]]\n",
    "assert mapl(tuple, a, 1) == [([0, 1, 2], [3]), ([4],)]\n",
    "assert mapl(tuple, a, 0) == ([[0, 1, 2], [3]], [[4]])"
   ]
  },
  {
   "cell_type": "code",
   "execution_count": 5,
   "metadata": {},
   "outputs": [],
   "source": [
    "def recursive_split(text, pats, level=0):\n",
    "    if not pats: return text\n",
    "    return recursive_split(mapl(partial(re.split, pats[0]), text, level), pats[1:], level+1)"
   ]
  },
  {
   "cell_type": "code",
   "execution_count": 6,
   "metadata": {},
   "outputs": [],
   "source": [
    "assert recursive_split(\"text\", []) == \"text\"\n",
    "assert recursive_split(\"t\\ne\\nx\\nt\", [\"\\n\"]) == [\"t\", \"e\", \"x\", \"t\"]\n",
    "assert recursive_split(\"t\\ne\\n\\nx\\nt\", [\"\\n\\n\", \"\\n\"]) == [[\"t\", \"e\"], [\"x\", \"t\"]]"
   ]
  },
  {
   "cell_type": "code",
   "execution_count": 7,
   "metadata": {},
   "outputs": [],
   "source": [
    "def split(text, pats=(\"\\n\",)):\n",
    "    return recursive_split(text.strip(), pats)"
   ]
  },
  {
   "cell_type": "markdown",
   "metadata": {},
   "source": [
    "## Day 1"
   ]
  },
  {
   "cell_type": "code",
   "execution_count": 8,
   "metadata": {},
   "outputs": [],
   "source": [
    "def split_ints(text): return mapl(int, split(text))"
   ]
  },
  {
   "cell_type": "code",
   "execution_count": 9,
   "metadata": {},
   "outputs": [],
   "source": [
    "DAY01_TEST = \"\"\"\n",
    "1721\n",
    "979\n",
    "366\n",
    "299\n",
    "675\n",
    "1456\n",
    "\"\"\"\n",
    "DAY01_TEST = split_ints(DAY01_TEST)\n",
    "DAY01_DATA = split_ints(read(\"data/day01.txt\"))"
   ]
  },
  {
   "cell_type": "code",
   "execution_count": 10,
   "metadata": {},
   "outputs": [],
   "source": [
    "def prod_combinations_where_sum_eq(ints, n):\n",
    "    return next(prod(x) for x in combinations(ints, r=n) if sum(x) == 2020)"
   ]
  },
  {
   "cell_type": "code",
   "execution_count": 11,
   "metadata": {},
   "outputs": [],
   "source": [
    "assert prod_combinations_where_sum_eq(DAY01_TEST, 2) == 514579"
   ]
  },
  {
   "cell_type": "code",
   "execution_count": 12,
   "metadata": {},
   "outputs": [
    {
     "data": {
      "text/plain": [
       "866436"
      ]
     },
     "execution_count": 12,
     "metadata": {},
     "output_type": "execute_result"
    }
   ],
   "source": [
    "prod_combinations_where_sum_eq(DAY01_DATA, 2)"
   ]
  },
  {
   "cell_type": "code",
   "execution_count": 13,
   "metadata": {},
   "outputs": [],
   "source": [
    "assert prod_combinations_where_sum_eq(DAY01_TEST, 3) == 241861950"
   ]
  },
  {
   "cell_type": "code",
   "execution_count": 14,
   "metadata": {},
   "outputs": [
    {
     "data": {
      "text/plain": [
       "276650720"
      ]
     },
     "execution_count": 14,
     "metadata": {},
     "output_type": "execute_result"
    }
   ],
   "source": [
    "prod_combinations_where_sum_eq(DAY01_DATA, 3)"
   ]
  },
  {
   "cell_type": "markdown",
   "metadata": {},
   "source": [
    "## Day 2"
   ]
  },
  {
   "cell_type": "code",
   "execution_count": 15,
   "metadata": {},
   "outputs": [],
   "source": [
    "DAY02_TEST = \"\"\"\n",
    "1-3 a: abcde\n",
    "1-3 b: cdefg\n",
    "2-9 c: ccccccccc\n",
    "\"\"\"\n",
    "DAY02_TEST = split(DAY02_TEST)\n",
    "DAY02_DATA = split(read(\"data/day02.txt\"))"
   ]
  },
  {
   "cell_type": "code",
   "execution_count": 16,
   "metadata": {},
   "outputs": [],
   "source": [
    "def count_policy(low, high, char, password):\n",
    "    return int(low) <= password.count(char) <= int(high)"
   ]
  },
  {
   "cell_type": "code",
   "execution_count": 17,
   "metadata": {},
   "outputs": [],
   "source": [
    "def position_policy(low, high, char, password):\n",
    "    return sum(password[int(i)-1] == char for i in (low, high)) == 1"
   ]
  },
  {
   "cell_type": "code",
   "execution_count": 18,
   "metadata": {},
   "outputs": [],
   "source": [
    "def is_valid(line, policy):\n",
    "    args = re.match(r\"^(\\d+)-(\\d+) ([a-z]): ([a-z]+)$\", line).groups()\n",
    "    return policy(*args)"
   ]
  },
  {
   "cell_type": "code",
   "execution_count": 19,
   "metadata": {},
   "outputs": [],
   "source": [
    "def count_valid_passwords(lines, policy):\n",
    "    return sum(is_valid(l, policy) for l in lines)"
   ]
  },
  {
   "cell_type": "code",
   "execution_count": 20,
   "metadata": {},
   "outputs": [],
   "source": [
    "assert count_valid_passwords(DAY02_TEST, count_policy) == 2"
   ]
  },
  {
   "cell_type": "code",
   "execution_count": 21,
   "metadata": {},
   "outputs": [
    {
     "data": {
      "text/plain": [
       "655"
      ]
     },
     "execution_count": 21,
     "metadata": {},
     "output_type": "execute_result"
    }
   ],
   "source": [
    "count_valid_passwords(DAY02_DATA, count_policy)"
   ]
  },
  {
   "cell_type": "code",
   "execution_count": 22,
   "metadata": {},
   "outputs": [],
   "source": [
    "assert count_valid_passwords(DAY02_TEST, position_policy) == 1"
   ]
  },
  {
   "cell_type": "code",
   "execution_count": 23,
   "metadata": {},
   "outputs": [
    {
     "data": {
      "text/plain": [
       "673"
      ]
     },
     "execution_count": 23,
     "metadata": {},
     "output_type": "execute_result"
    }
   ],
   "source": [
    "count_valid_passwords(DAY02_DATA, position_policy)"
   ]
  },
  {
   "cell_type": "markdown",
   "metadata": {},
   "source": [
    "## Day 3"
   ]
  },
  {
   "cell_type": "code",
   "execution_count": 24,
   "metadata": {},
   "outputs": [],
   "source": [
    "DAY03_TEST = \"\"\"\n",
    "..##.......\n",
    "#...#...#..\n",
    ".#....#..#.\n",
    "..#.#...#.#\n",
    ".#...##..#.\n",
    "..#.##.....\n",
    ".#.#.#....#\n",
    ".#........#\n",
    "#.##...#...\n",
    "#...##....#\n",
    ".#..#...#.#\n",
    "\"\"\"\n",
    "DAY03_TEST = split(DAY03_TEST)\n",
    "DAY03_DATA = split(read(\"data/day03.txt\"))"
   ]
  },
  {
   "cell_type": "code",
   "execution_count": 25,
   "metadata": {},
   "outputs": [],
   "source": [
    "def count_trees(lines, dx=3, dy=1):\n",
    "    arr = np.array([[c == \"#\" for c in l] for l in lines], dtype=int)\n",
    "    ny, nx = arr.shape\n",
    "    y = np.arange(0, ny, dy)\n",
    "    x = np.mod(np.arange(0, len(y)) * dx, nx)\n",
    "    return np.sum(arr[y, x])"
   ]
  },
  {
   "cell_type": "code",
   "execution_count": 26,
   "metadata": {},
   "outputs": [],
   "source": [
    "SLOPES = [(1, 1), (3, 1), (5, 1), (7, 1), (1, 2)]\n",
    "\n",
    "def prod_count_trees_for_slopes(lines):\n",
    "    return prod(count_trees(lines, dx, dy) for dx, dy in SLOPES)"
   ]
  },
  {
   "cell_type": "code",
   "execution_count": 27,
   "metadata": {},
   "outputs": [],
   "source": [
    "assert count_trees(DAY03_TEST, 3, 1) == 7"
   ]
  },
  {
   "cell_type": "code",
   "execution_count": 28,
   "metadata": {},
   "outputs": [
    {
     "data": {
      "text/plain": [
       "216"
      ]
     },
     "execution_count": 28,
     "metadata": {},
     "output_type": "execute_result"
    }
   ],
   "source": [
    "count_trees(DAY03_DATA, 3, 1)"
   ]
  },
  {
   "cell_type": "code",
   "execution_count": 29,
   "metadata": {},
   "outputs": [],
   "source": [
    "EXPECTED = [2, 7, 3, 4, 2]\n",
    "\n",
    "for (dx, dy), expected in zip(SLOPES, EXPECTED):\n",
    "    assert count_trees(DAY03_TEST, dx, dy) == expected"
   ]
  },
  {
   "cell_type": "code",
   "execution_count": 30,
   "metadata": {},
   "outputs": [],
   "source": [
    "assert prod_count_trees_for_slopes(DAY03_TEST) == 336"
   ]
  },
  {
   "cell_type": "code",
   "execution_count": 31,
   "metadata": {},
   "outputs": [
    {
     "data": {
      "text/plain": [
       "6708199680"
      ]
     },
     "execution_count": 31,
     "metadata": {},
     "output_type": "execute_result"
    }
   ],
   "source": [
    "prod_count_trees_for_slopes(DAY03_DATA)"
   ]
  },
  {
   "cell_type": "markdown",
   "metadata": {},
   "source": [
    "## Day 4"
   ]
  },
  {
   "cell_type": "code",
   "execution_count": 32,
   "metadata": {},
   "outputs": [],
   "source": [
    "def parse_passports(text):\n",
    "    passports = split(text, (\"\\n\\n\", \" |\\n\", \":\"))\n",
    "    return mapl(dict, passports)"
   ]
  },
  {
   "cell_type": "code",
   "execution_count": 33,
   "metadata": {},
   "outputs": [],
   "source": [
    "DAY04_TEST = \"\"\"\n",
    "ecl:gry pid:860033327 eyr:2020 hcl:#fffffd\n",
    "byr:1937 iyr:2017 cid:147 hgt:183cm\n",
    "\n",
    "iyr:2013 ecl:amb cid:350 eyr:2023 pid:028048884\n",
    "hcl:#cfa07d byr:1929\n",
    "\n",
    "hcl:#ae17e1 iyr:2013\n",
    "eyr:2024\n",
    "ecl:brn pid:760753108 byr:1931\n",
    "hgt:179cm\n",
    "\n",
    "hcl:#cfa07d eyr:2025 pid:166559648\n",
    "iyr:2011 ecl:brn hgt:59in\n",
    "\"\"\"\n",
    "DAY04_TEST = parse_passports(DAY04_TEST)\n",
    "DAY04_DATA = parse_passports(read(\"data/day04.txt\"))"
   ]
  },
  {
   "cell_type": "code",
   "execution_count": 34,
   "metadata": {},
   "outputs": [],
   "source": [
    "REQUIRED = set(\"byr iyr eyr hgt hcl ecl pid\".split())\n",
    "\n",
    "def is_passport_keys_valid(p):\n",
    "    return set(p.keys()).issuperset(REQUIRED)"
   ]
  },
  {
   "cell_type": "code",
   "execution_count": 35,
   "metadata": {},
   "outputs": [],
   "source": [
    "def count_valid_passports(passports, is_valid):\n",
    "    return sum(is_valid(b) for b in passports)"
   ]
  },
  {
   "cell_type": "code",
   "execution_count": 36,
   "metadata": {},
   "outputs": [],
   "source": [
    "VALID_ECL = set(\"amb blu brn gry grn hzl oth\".split())\n",
    "\n",
    "def is_passport_valid(p):\n",
    "    if not is_passport_keys_valid(p): return False\n",
    "    if not (match := re.match(\"^(\\d+)(cm|in)$\", p[\"hgt\"])): return False\n",
    "    height, unit = match.groups()\n",
    "    height = int(height)\n",
    "    valid = {\n",
    "        \"byr\": 1920 <= int(p[\"byr\"]) <= 2002,\n",
    "        \"iyr\": 2010 <= int(p[\"iyr\"]) <= 2020,\n",
    "        \"eyr\": 2020 <= int(p[\"eyr\"]) <= 2030,\n",
    "        \"hgt\": (150 <= height <= 193 if unit == \"cm\" else 59 <= height <= 76),\n",
    "        \"hcl\": re.match(\"^\\#[0-9a-f]{6}$\", p[\"hcl\"]) is not None,\n",
    "        \"ecl\": p[\"ecl\"] in VALID_ECL,\n",
    "        \"pid\": re.match(\"^\\d{9}$\", p[\"pid\"]) is not None\n",
    "    }\n",
    "    return all(valid.values())"
   ]
  },
  {
   "cell_type": "code",
   "execution_count": 37,
   "metadata": {},
   "outputs": [],
   "source": [
    "assert count_valid_passports(DAY04_TEST, is_passport_keys_valid) == 2"
   ]
  },
  {
   "cell_type": "code",
   "execution_count": 38,
   "metadata": {},
   "outputs": [
    {
     "data": {
      "text/plain": [
       "210"
      ]
     },
     "execution_count": 38,
     "metadata": {},
     "output_type": "execute_result"
    }
   ],
   "source": [
    "count_valid_passports(DAY04_DATA, is_passport_keys_valid)"
   ]
  },
  {
   "cell_type": "code",
   "execution_count": 39,
   "metadata": {},
   "outputs": [],
   "source": [
    "INVALID_PASSPORTS = parse_passports(\n",
    "\"\"\"\n",
    "eyr:1972 cid:100\n",
    "hcl:#18171d ecl:amb hgt:170 pid:186cm iyr:2018 byr:1926\n",
    "\n",
    "iyr:2019\n",
    "hcl:#602927 eyr:1967 hgt:170cm\n",
    "ecl:grn pid:012533040 byr:1946\n",
    "\n",
    "hcl:dab227 iyr:2012\n",
    "ecl:brn hgt:182cm pid:021572410 eyr:2020 byr:1992 cid:277\n",
    "\n",
    "hgt:59cm ecl:zzz\n",
    "eyr:2038 hcl:74454a iyr:2023\n",
    "pid:3556412378 byr:2007\n",
    "\"\"\"\n",
    ")\n",
    "VALID_PASSPORTS = parse_passports(\n",
    "\"\"\"\n",
    "pid:087499704 hgt:74in ecl:grn iyr:2012 eyr:2030 byr:1980\n",
    "hcl:#623a2f\n",
    "\n",
    "eyr:2029 ecl:blu cid:129 byr:1989\n",
    "iyr:2014 pid:896056539 hcl:#a97842 hgt:165cm\n",
    "\n",
    "hcl:#888785\n",
    "hgt:164cm byr:2001 iyr:2015 cid:88\n",
    "pid:545766238 ecl:hzl\n",
    "eyr:2022\n",
    "\n",
    "iyr:2010 hgt:158cm hcl:#b6652a ecl:blu byr:1944 eyr:2021 pid:093154719\n",
    "\"\"\"\n",
    ")"
   ]
  },
  {
   "cell_type": "code",
   "execution_count": 40,
   "metadata": {},
   "outputs": [],
   "source": [
    "for p in VALID_PASSPORTS:\n",
    "    assert is_passport_valid(p), p"
   ]
  },
  {
   "cell_type": "code",
   "execution_count": 41,
   "metadata": {},
   "outputs": [],
   "source": [
    "for p in INVALID_PASSPORTS:\n",
    "    assert not is_passport_valid(p), p"
   ]
  },
  {
   "cell_type": "code",
   "execution_count": 42,
   "metadata": {},
   "outputs": [
    {
     "data": {
      "text/plain": [
       "131"
      ]
     },
     "execution_count": 42,
     "metadata": {},
     "output_type": "execute_result"
    }
   ],
   "source": [
    "count_valid_passports(DAY04_DATA, is_passport_valid)"
   ]
  },
  {
   "cell_type": "markdown",
   "metadata": {},
   "source": [
    "## Day 5"
   ]
  },
  {
   "cell_type": "code",
   "execution_count": 43,
   "metadata": {},
   "outputs": [],
   "source": [
    "def decode(chars, low, up):\n",
    "    for char in chars:\n",
    "        mid = (low + up) / 2\n",
    "        if char in \"FL\": up  = floor(mid)\n",
    "        else:            low = ceil(mid)\n",
    "    return low\n",
    "\n",
    "def parse_seat_id(line):\n",
    "    row, col = decode(line[:7], 0, 127), decode(line[7:], 0, 7)\n",
    "    return 8 * row + col\n",
    "\n",
    "def parse_seat_ids(text):\n",
    "    return mapl(parse_seat_id, split(text))"
   ]
  },
  {
   "cell_type": "code",
   "execution_count": 44,
   "metadata": {},
   "outputs": [],
   "source": [
    "DAY05_TEST = \"\"\"\n",
    "FBFBBFFRLR\n",
    "BFFFBBFRRR\n",
    "FFFBBBFRRR\n",
    "BBFFBBFRLL\n",
    "\"\"\"\n",
    "DAY05_TEST = parse_seat_ids(DAY05_TEST)\n",
    "DAY05_DATA = parse_seat_ids(read(\"data/day05.txt\"))"
   ]
  },
  {
   "cell_type": "code",
   "execution_count": 45,
   "metadata": {},
   "outputs": [],
   "source": [
    "TEST_SEAT_IDS = [357, 567, 119, 820]\n",
    "for sid, exp in zip(DAY05_TEST, TEST_SEAT_IDS):\n",
    "    assert sid == exp"
   ]
  },
  {
   "cell_type": "code",
   "execution_count": 46,
   "metadata": {},
   "outputs": [
    {
     "data": {
      "text/plain": [
       "913"
      ]
     },
     "execution_count": 46,
     "metadata": {},
     "output_type": "execute_result"
    }
   ],
   "source": [
    "max(DAY05_DATA)"
   ]
  },
  {
   "cell_type": "code",
   "execution_count": 47,
   "metadata": {},
   "outputs": [
    {
     "data": {
      "text/plain": [
       "{717}"
      ]
     },
     "execution_count": 47,
     "metadata": {},
     "output_type": "execute_result"
    }
   ],
   "source": [
    "set(range(min(DAY05_DATA), max(DAY05_DATA) + 1)) - set(DAY05_DATA)"
   ]
  },
  {
   "cell_type": "markdown",
   "metadata": {},
   "source": [
    "## Day 6"
   ]
  },
  {
   "cell_type": "code",
   "execution_count": 48,
   "metadata": {},
   "outputs": [],
   "source": [
    "def parse_customs_forms(text):\n",
    "    forms = split(text, (\"\\n\\n\", \"\\n\"))\n",
    "    return mapl(set, forms, 2)"
   ]
  },
  {
   "cell_type": "code",
   "execution_count": 49,
   "metadata": {},
   "outputs": [],
   "source": [
    "DAY06_TEST = \"\"\"\n",
    "abc\n",
    "\n",
    "a\n",
    "b\n",
    "c\n",
    "\n",
    "ab\n",
    "ac\n",
    "\n",
    "a\n",
    "a\n",
    "a\n",
    "a\n",
    "\n",
    "b\n",
    "\"\"\"\n",
    "DAY06_TEST = parse_customs_forms(DAY06_TEST)\n",
    "DAY06_DATA = parse_customs_forms(read(\"data/day06.txt\"))"
   ]
  },
  {
   "cell_type": "code",
   "execution_count": 50,
   "metadata": {},
   "outputs": [],
   "source": [
    "def count_answers(forms, set_agg):\n",
    "    return sum(len(set_agg(*x)) for x in forms)"
   ]
  },
  {
   "cell_type": "code",
   "execution_count": 51,
   "metadata": {},
   "outputs": [],
   "source": [
    "assert count_answers(DAY06_TEST, set.union) == 11"
   ]
  },
  {
   "cell_type": "code",
   "execution_count": 52,
   "metadata": {},
   "outputs": [
    {
     "data": {
      "text/plain": [
       "6930"
      ]
     },
     "execution_count": 52,
     "metadata": {},
     "output_type": "execute_result"
    }
   ],
   "source": [
    "count_answers(DAY06_DATA, set.union)"
   ]
  },
  {
   "cell_type": "code",
   "execution_count": 53,
   "metadata": {},
   "outputs": [],
   "source": [
    "assert count_answers(DAY06_TEST, set.intersection) == 6"
   ]
  },
  {
   "cell_type": "code",
   "execution_count": 54,
   "metadata": {},
   "outputs": [
    {
     "data": {
      "text/plain": [
       "3585"
      ]
     },
     "execution_count": 54,
     "metadata": {},
     "output_type": "execute_result"
    }
   ],
   "source": [
    "count_answers(DAY06_DATA, set.intersection)"
   ]
  },
  {
   "cell_type": "markdown",
   "metadata": {},
   "source": [
    "## Day 7"
   ]
  },
  {
   "cell_type": "code",
   "execution_count": 55,
   "metadata": {},
   "outputs": [],
   "source": [
    "# DAY07_TEST = \"\"\"\n",
    "# \"\"\"\n",
    "# DAY07_TEST = split(DAY07_TEST)\n",
    "# DAY07_DATA = split(read(\"data/day07.txt\"))"
   ]
  }
 ],
 "metadata": {
  "kernelspec": {
   "display_name": "Python 3",
   "language": "python",
   "name": "python3"
  },
  "language_info": {
   "codemirror_mode": {
    "name": "ipython",
    "version": 3
   },
   "file_extension": ".py",
   "mimetype": "text/x-python",
   "name": "python",
   "nbconvert_exporter": "python",
   "pygments_lexer": "ipython3",
   "version": "3.8.5"
  }
 },
 "nbformat": 4,
 "nbformat_minor": 4
}
