{
 "cells": [
  {
   "cell_type": "code",
   "execution_count": 1,
   "metadata": {},
   "outputs": [],
   "source": [
    "import re\n",
    "from collections import defaultdict, deque, Counter, OrderedDict\n",
    "from collections.abc import Mapping\n",
    "from copy import copy, deepcopy\n",
    "from dataclasses import dataclass, field, replace\n",
    "from enum import Enum\n",
    "from functools import partial, reduce\n",
    "from itertools import combinations, product\n",
    "from math import ceil, cos, floor, prod, radians, sin\n",
    "from typing import Any, Dict, List, Tuple\n",
    "\n",
    "import numpy as np"
   ]
  },
  {
   "cell_type": "markdown",
   "metadata": {},
   "source": [
    "## Day 1"
   ]
  },
  {
   "cell_type": "code",
   "execution_count": 2,
   "metadata": {
    "scrolled": true
   },
   "outputs": [],
   "source": [
    "from itertools import combinations\n",
    "from math import prod"
   ]
  },
  {
   "cell_type": "code",
   "execution_count": 3,
   "metadata": {},
   "outputs": [],
   "source": [
    "def split_ints(text):\n",
    "    return [int(x) for x in text.splitlines()]"
   ]
  },
  {
   "cell_type": "code",
   "execution_count": 4,
   "metadata": {},
   "outputs": [],
   "source": [
    "DAY01_TEST = \"\"\"\\\n",
    "1721\n",
    "979\n",
    "366\n",
    "299\n",
    "675\n",
    "1456\n",
    "\"\"\"\n",
    "DAY01_TEST = split_ints(DAY01_TEST)\n",
    "with open(\"data/day01.txt\") as f:\n",
    "    DAY01_DATA = split_ints(f.read())"
   ]
  },
  {
   "cell_type": "code",
   "execution_count": 5,
   "metadata": {},
   "outputs": [],
   "source": [
    "def prod_combinations_where_sum_eq_2020(ints, n):\n",
    "    return next(prod(x) for x in combinations(ints, r=n) if sum(x) == 2020)"
   ]
  },
  {
   "cell_type": "markdown",
   "metadata": {},
   "source": [
    "### Part A"
   ]
  },
  {
   "cell_type": "code",
   "execution_count": 6,
   "metadata": {},
   "outputs": [],
   "source": [
    "assert prod_combinations_where_sum_eq_2020(DAY01_TEST, 2) == 514579\n",
    "assert prod_combinations_where_sum_eq_2020(DAY01_DATA, 2) == 866436"
   ]
  },
  {
   "cell_type": "markdown",
   "metadata": {},
   "source": [
    "### Part B"
   ]
  },
  {
   "cell_type": "code",
   "execution_count": 7,
   "metadata": {},
   "outputs": [],
   "source": [
    "assert prod_combinations_where_sum_eq_2020(DAY01_TEST, 3) == 241861950\n",
    "assert prod_combinations_where_sum_eq_2020(DAY01_DATA, 3) == 276650720"
   ]
  },
  {
   "cell_type": "markdown",
   "metadata": {},
   "source": [
    "## Day 2"
   ]
  },
  {
   "cell_type": "code",
   "execution_count": 8,
   "metadata": {},
   "outputs": [],
   "source": [
    "import re\n",
    "from dataclasses import dataclass"
   ]
  },
  {
   "cell_type": "code",
   "execution_count": 9,
   "metadata": {},
   "outputs": [],
   "source": [
    "@dataclass\n",
    "class PolicyData:\n",
    "    low: int\n",
    "    high: int\n",
    "    char: str\n",
    "    password: str\n",
    "\n",
    "def parse_policy_data(text):\n",
    "    args = []\n",
    "    for line in text.splitlines():\n",
    "        low, high, char, password = re.match(r\"^(\\d+)-(\\d+) ([a-z]): ([a-z]+)$\", line).groups()\n",
    "        args.append(PolicyData(int(low), int(high), char, password))\n",
    "    return args"
   ]
  },
  {
   "cell_type": "code",
   "execution_count": 10,
   "metadata": {},
   "outputs": [],
   "source": [
    "DAY02_TEST = \"\"\"\\\n",
    "1-3 a: abcde\n",
    "1-3 b: cdefg\n",
    "2-9 c: ccccccccc\n",
    "\"\"\"\n",
    "DAY02_TEST = parse_policy_data(DAY02_TEST)\n",
    "with open(\"data/day02.txt\") as f:\n",
    "    DAY02_DATA = parse_policy_data(f.read())"
   ]
  },
  {
   "cell_type": "markdown",
   "metadata": {},
   "source": [
    "### Part A"
   ]
  },
  {
   "cell_type": "code",
   "execution_count": 11,
   "metadata": {},
   "outputs": [],
   "source": [
    "def count_policy(p):\n",
    "    return p.low <= p.password.count(p.char) <= p.high"
   ]
  },
  {
   "cell_type": "code",
   "execution_count": 12,
   "metadata": {},
   "outputs": [],
   "source": [
    "def count_valid_passwords(policy_data, policy):\n",
    "    return sum(policy(p) for p in policy_data)"
   ]
  },
  {
   "cell_type": "code",
   "execution_count": 13,
   "metadata": {},
   "outputs": [],
   "source": [
    "assert count_valid_passwords(DAY02_TEST, count_policy) == 2\n",
    "assert count_valid_passwords(DAY02_DATA, count_policy) == 655"
   ]
  },
  {
   "cell_type": "markdown",
   "metadata": {},
   "source": [
    "### Part B"
   ]
  },
  {
   "cell_type": "code",
   "execution_count": 14,
   "metadata": {},
   "outputs": [],
   "source": [
    "def position_policy(p):\n",
    "    return sum(p.password[i-1] == p.char for i in (p.low, p.high)) == 1"
   ]
  },
  {
   "cell_type": "code",
   "execution_count": 15,
   "metadata": {},
   "outputs": [],
   "source": [
    "assert count_valid_passwords(DAY02_TEST, position_policy) == 1\n",
    "assert count_valid_passwords(DAY02_DATA, position_policy) == 673"
   ]
  },
  {
   "cell_type": "markdown",
   "metadata": {},
   "source": [
    "## Day 3"
   ]
  },
  {
   "cell_type": "code",
   "execution_count": 16,
   "metadata": {},
   "outputs": [],
   "source": [
    "from math import prod\n",
    "\n",
    "import numpy as np"
   ]
  },
  {
   "cell_type": "code",
   "execution_count": 17,
   "metadata": {},
   "outputs": [],
   "source": [
    "def parse_trees(text):\n",
    "    return np.array(\n",
    "        [\n",
    "            [char == \"#\" for char in line]\n",
    "            for line in text.splitlines()\n",
    "        ]\n",
    "    )"
   ]
  },
  {
   "cell_type": "code",
   "execution_count": 18,
   "metadata": {},
   "outputs": [],
   "source": [
    "DAY03_TEST = \"\"\"\\\n",
    "..##.......\n",
    "#...#...#..\n",
    ".#....#..#.\n",
    "..#.#...#.#\n",
    ".#...##..#.\n",
    "..#.##.....\n",
    ".#.#.#....#\n",
    ".#........#\n",
    "#.##...#...\n",
    "#...##....#\n",
    ".#..#...#.#\n",
    "\"\"\"\n",
    "DAY03_TEST = parse_trees(DAY03_TEST)\n",
    "with open(\"data/day03.txt\") as f:\n",
    "    DAY03_DATA = parse_trees(f.read())"
   ]
  },
  {
   "cell_type": "markdown",
   "metadata": {},
   "source": [
    "### Part A"
   ]
  },
  {
   "cell_type": "code",
   "execution_count": 19,
   "metadata": {},
   "outputs": [],
   "source": [
    "def count_trees(arr, dx, dy):\n",
    "    ny, nx = arr.shape\n",
    "    y = np.arange(0, ny, dy)\n",
    "    x = np.mod(np.arange(0, len(y)) * dx, nx)\n",
    "    return np.sum(arr[y, x])"
   ]
  },
  {
   "cell_type": "code",
   "execution_count": 20,
   "metadata": {},
   "outputs": [],
   "source": [
    "assert count_trees(DAY03_TEST, 3, 1) == 7\n",
    "assert count_trees(DAY03_DATA, 3, 1) == 216"
   ]
  },
  {
   "cell_type": "markdown",
   "metadata": {},
   "source": [
    "### Part B"
   ]
  },
  {
   "cell_type": "code",
   "execution_count": 21,
   "metadata": {},
   "outputs": [],
   "source": [
    "SLOPES = [(1, 1), (3, 1), (5, 1), (7, 1), (1, 2)]\n",
    "\n",
    "def prod_count_trees_for_slopes(lines):\n",
    "    return prod(count_trees(lines, dx, dy) for dx, dy in SLOPES)"
   ]
  },
  {
   "cell_type": "code",
   "execution_count": 22,
   "metadata": {},
   "outputs": [],
   "source": [
    "assert prod_count_trees_for_slopes(DAY03_TEST) == 336\n",
    "assert prod_count_trees_for_slopes(DAY03_DATA) == 6708199680"
   ]
  },
  {
   "cell_type": "markdown",
   "metadata": {},
   "source": [
    "## Day 4"
   ]
  },
  {
   "cell_type": "code",
   "execution_count": 23,
   "metadata": {},
   "outputs": [],
   "source": [
    "import re"
   ]
  },
  {
   "cell_type": "code",
   "execution_count": 24,
   "metadata": {},
   "outputs": [],
   "source": [
    "def parse_passports(text):\n",
    "    return [\n",
    "        dict(key_val.split(\":\") for key_val in passport.split())\n",
    "        for passport in text.split(\"\\n\\n\")\n",
    "    ]"
   ]
  },
  {
   "cell_type": "code",
   "execution_count": 25,
   "metadata": {},
   "outputs": [],
   "source": [
    "DAY04_TEST = \"\"\"\\\n",
    "ecl:gry pid:860033327 eyr:2020 hcl:#fffffd\n",
    "byr:1937 iyr:2017 cid:147 hgt:183cm\n",
    "\n",
    "iyr:2013 ecl:amb cid:350 eyr:2023 pid:028048884\n",
    "hcl:#cfa07d byr:1929\n",
    "\n",
    "hcl:#ae17e1 iyr:2013\n",
    "eyr:2024\n",
    "ecl:brn pid:760753108 byr:1931\n",
    "hgt:179cm\n",
    "\n",
    "hcl:#cfa07d eyr:2025 pid:166559648\n",
    "iyr:2011 ecl:brn hgt:59in\n",
    "\"\"\"\n",
    "DAY04_TEST = parse_passports(DAY04_TEST)\n",
    "with open(\"data/day04.txt\") as f:\n",
    "    DAY04_DATA = parse_passports(f.read())"
   ]
  },
  {
   "cell_type": "markdown",
   "metadata": {},
   "source": [
    "### Part A"
   ]
  },
  {
   "cell_type": "code",
   "execution_count": 26,
   "metadata": {},
   "outputs": [],
   "source": [
    "REQUIRED = set(\"byr iyr eyr hgt hcl ecl pid\".split())\n",
    "\n",
    "def is_passport_keys_valid(p):\n",
    "    return set(p.keys()).issuperset(REQUIRED)"
   ]
  },
  {
   "cell_type": "code",
   "execution_count": 27,
   "metadata": {},
   "outputs": [],
   "source": [
    "def count_valid_passports(passports, is_valid):\n",
    "    return sum(is_valid(p) for p in passports)"
   ]
  },
  {
   "cell_type": "markdown",
   "metadata": {},
   "source": [
    "### Part B"
   ]
  },
  {
   "cell_type": "code",
   "execution_count": 28,
   "metadata": {},
   "outputs": [],
   "source": [
    "assert count_valid_passports(DAY04_TEST, is_passport_keys_valid) == 2\n",
    "assert count_valid_passports(DAY04_DATA, is_passport_keys_valid) == 210"
   ]
  },
  {
   "cell_type": "code",
   "execution_count": 29,
   "metadata": {},
   "outputs": [],
   "source": [
    "VALID_ECL = set(\"amb blu brn gry grn hzl oth\".split())\n",
    "\n",
    "def is_passport_valid(p):\n",
    "    if not is_passport_keys_valid(p): return False\n",
    "    if not (match := re.match(\"^(\\d+)(cm|in)$\", p[\"hgt\"])): return False\n",
    "    height, unit = match.groups()\n",
    "    height = int(height)\n",
    "    valid = {\n",
    "        \"byr\": 1920 <= int(p[\"byr\"]) <= 2002,\n",
    "        \"iyr\": 2010 <= int(p[\"iyr\"]) <= 2020,\n",
    "        \"eyr\": 2020 <= int(p[\"eyr\"]) <= 2030,\n",
    "        \"hgt\": (150 <= height <= 193 if unit == \"cm\" else 59 <= height <= 76),\n",
    "        \"hcl\": re.match(\"^\\#[0-9a-f]{6}$\", p[\"hcl\"]) is not None,\n",
    "        \"ecl\": p[\"ecl\"] in VALID_ECL,\n",
    "        \"pid\": re.match(\"^\\d{9}$\", p[\"pid\"]) is not None\n",
    "    }\n",
    "    return all(valid.values())"
   ]
  },
  {
   "cell_type": "code",
   "execution_count": 30,
   "metadata": {},
   "outputs": [],
   "source": [
    "assert count_valid_passports(DAY04_DATA, is_passport_valid) == 131"
   ]
  },
  {
   "cell_type": "markdown",
   "metadata": {},
   "source": [
    "## Day 5"
   ]
  },
  {
   "cell_type": "code",
   "execution_count": 31,
   "metadata": {},
   "outputs": [],
   "source": [
    "from math import ceil, floor"
   ]
  },
  {
   "cell_type": "code",
   "execution_count": 32,
   "metadata": {},
   "outputs": [],
   "source": [
    "def decode(chars, low, up):\n",
    "    for char in chars:\n",
    "        mid = (low + up) / 2\n",
    "        if char in \"FL\":\n",
    "            up  = floor(mid)\n",
    "        else:\n",
    "            low = ceil(mid)\n",
    "    return low\n",
    "\n",
    "def parse_seat_ids(text):\n",
    "    seat_ids = []\n",
    "    for line in text.splitlines():\n",
    "        row = decode(line[:7], 0, 127)\n",
    "        col = decode(line[7:], 0, 7)\n",
    "        seat_ids.append(8 * row + col)\n",
    "    return seat_ids"
   ]
  },
  {
   "cell_type": "code",
   "execution_count": 33,
   "metadata": {},
   "outputs": [],
   "source": [
    "DAY05_TEST = \"\"\"\\\n",
    "FBFBBFFRLR\n",
    "BFFFBBFRRR\n",
    "FFFBBBFRRR\n",
    "BBFFBBFRLL\n",
    "\"\"\"\n",
    "DAY05_TEST = parse_seat_ids(DAY05_TEST)\n",
    "with open(\"data/day05.txt\") as f:\n",
    "    DAY05_DATA = parse_seat_ids(f.read())"
   ]
  },
  {
   "cell_type": "markdown",
   "metadata": {},
   "source": [
    "### Part A"
   ]
  },
  {
   "cell_type": "code",
   "execution_count": 34,
   "metadata": {},
   "outputs": [],
   "source": [
    "assert max(DAY05_DATA) == 913"
   ]
  },
  {
   "cell_type": "markdown",
   "metadata": {},
   "source": [
    "### Part B"
   ]
  },
  {
   "cell_type": "code",
   "execution_count": 35,
   "metadata": {},
   "outputs": [],
   "source": [
    "assert set(range(min(DAY05_DATA), max(DAY05_DATA) + 1)) - set(DAY05_DATA) == {717}"
   ]
  },
  {
   "cell_type": "markdown",
   "metadata": {},
   "source": [
    "### A better way"
   ]
  },
  {
   "cell_type": "code",
   "execution_count": 36,
   "metadata": {},
   "outputs": [],
   "source": [
    "def parse_seat_ids_binary(text):\n",
    "    seat_ids = []\n",
    "    for line in text.split():\n",
    "        row = line[:7].replace(\"B\", \"1\").replace(\"F\", \"0\")\n",
    "        seat = line[7:].replace(\"R\", \"1\").replace(\"L\", \"0\")\n",
    "        seat_id = 8 * int(row, 2) + int(seat, 2)\n",
    "        seat_ids.append(seat_id)\n",
    "    return seat_ids"
   ]
  },
  {
   "cell_type": "markdown",
   "metadata": {},
   "source": [
    "## Day 6"
   ]
  },
  {
   "cell_type": "code",
   "execution_count": 37,
   "metadata": {},
   "outputs": [],
   "source": [
    "def parse_customs_forms(text):\n",
    "    return [\n",
    "        [set(x) for x in group.split(\"\\n\")]\n",
    "        for group in text.strip().split(\"\\n\\n\")\n",
    "    ]"
   ]
  },
  {
   "cell_type": "code",
   "execution_count": 38,
   "metadata": {},
   "outputs": [],
   "source": [
    "DAY06_TEST = \"\"\"\\\n",
    "abc\n",
    "\n",
    "a\n",
    "b\n",
    "c\n",
    "\n",
    "ab\n",
    "ac\n",
    "\n",
    "a\n",
    "a\n",
    "a\n",
    "a\n",
    "\n",
    "b\n",
    "\"\"\"\n",
    "DAY06_TEST = parse_customs_forms(DAY06_TEST)\n",
    "with open(\"data/day06.txt\") as f:\n",
    "    DAY06_DATA = parse_customs_forms(f.read())"
   ]
  },
  {
   "cell_type": "code",
   "execution_count": 39,
   "metadata": {},
   "outputs": [],
   "source": [
    "def count_answers(forms, set_agg):\n",
    "    return sum(len(set_agg(*x)) for x in forms)"
   ]
  },
  {
   "cell_type": "markdown",
   "metadata": {},
   "source": [
    "### Part A"
   ]
  },
  {
   "cell_type": "code",
   "execution_count": 40,
   "metadata": {},
   "outputs": [],
   "source": [
    "assert count_answers(DAY06_TEST, set.union) == 11\n",
    "assert count_answers(DAY06_DATA, set.union) == 6930"
   ]
  },
  {
   "cell_type": "markdown",
   "metadata": {},
   "source": [
    "### Part B"
   ]
  },
  {
   "cell_type": "code",
   "execution_count": 41,
   "metadata": {},
   "outputs": [],
   "source": [
    "assert count_answers(DAY06_TEST, set.intersection) == 6\n",
    "assert count_answers(DAY06_DATA, set.intersection) == 3585"
   ]
  },
  {
   "cell_type": "markdown",
   "metadata": {},
   "source": [
    "## Day 7"
   ]
  },
  {
   "cell_type": "code",
   "execution_count": 42,
   "metadata": {},
   "outputs": [],
   "source": [
    "import re\n",
    "from collections import defaultdict"
   ]
  },
  {
   "cell_type": "code",
   "execution_count": 43,
   "metadata": {},
   "outputs": [],
   "source": [
    "def parse_bags(text):\n",
    "    containers = defaultdict(dict)\n",
    "    for line in text.splitlines():\n",
    "        container, contained_str = line.split(\" bags contain \")\n",
    "        if contained_str.startswith(\"no\"):\n",
    "            continue\n",
    "        for s in re.split(\" bags?(?:, |.)\", contained_str)[:-1]:\n",
    "            if s.startswith(\"no\"):\n",
    "                continue\n",
    "            weight, contained = s.split(\" \", 1)\n",
    "            containers[contained][container] = int(weight)\n",
    "    return containers"
   ]
  },
  {
   "cell_type": "code",
   "execution_count": 44,
   "metadata": {},
   "outputs": [],
   "source": [
    "DAY07_TEST = \"\"\"\\\n",
    "light red bags contain 1 bright white bag, 2 muted yellow bags.\n",
    "dark orange bags contain 3 bright white bags, 4 muted yellow bags.\n",
    "bright white bags contain 1 shiny gold bag.\n",
    "muted yellow bags contain 2 shiny gold bags, 9 faded blue bags.\n",
    "shiny gold bags contain 1 dark olive bag, 2 vibrant plum bags.\n",
    "dark olive bags contain 3 faded blue bags, 4 dotted black bags.\n",
    "vibrant plum bags contain 5 faded blue bags, 6 dotted black bags.\n",
    "faded blue bags contain no other bags.\n",
    "dotted black bags contain no other bags.\n",
    "\"\"\"\n",
    "DAY07_TEST = parse_bags(DAY07_TEST)\n",
    "with open(\"data/day07.txt\") as f:\n",
    "    DAY07_DATA = parse_bags(f.read())"
   ]
  },
  {
   "cell_type": "markdown",
   "metadata": {},
   "source": [
    "### Part A"
   ]
  },
  {
   "cell_type": "code",
   "execution_count": 45,
   "metadata": {},
   "outputs": [],
   "source": [
    "def descendants(edges, root, visited=set()):\n",
    "    if root not in edges: return visited\n",
    "    visited = visited.union(edges[root].keys())\n",
    "    return set.union(visited, *(descendants(edges, child, visited) for child in edges[root]))"
   ]
  },
  {
   "cell_type": "code",
   "execution_count": 46,
   "metadata": {},
   "outputs": [],
   "source": [
    "def count_containing_bags(contains, color):\n",
    "    return len(descendants(contains, color))"
   ]
  },
  {
   "cell_type": "code",
   "execution_count": 47,
   "metadata": {},
   "outputs": [],
   "source": [
    "COLOR = \"shiny gold\"\n",
    "assert count_containing_bags(DAY07_TEST, COLOR) == 4\n",
    "assert count_containing_bags(DAY07_DATA, COLOR) == 289"
   ]
  },
  {
   "cell_type": "markdown",
   "metadata": {},
   "source": [
    "### Part B"
   ]
  },
  {
   "cell_type": "code",
   "execution_count": 48,
   "metadata": {},
   "outputs": [],
   "source": [
    "def reverse(edges):\n",
    "    res = {}\n",
    "    for parent, children in edges.items():\n",
    "        for node, weight in children.items():\n",
    "            if node not in res:\n",
    "                res[node] = {}\n",
    "            res[node].update({parent: weight})\n",
    "    return res"
   ]
  },
  {
   "cell_type": "code",
   "execution_count": 49,
   "metadata": {},
   "outputs": [],
   "source": [
    "def recursive_sum_weights(edges, root):\n",
    "    if root not in edges: return 0\n",
    "    return sum(\n",
    "        weight * (1 + recursive_sum_weights(edges, child))\n",
    "        for child, weight in edges[root].items()\n",
    "    )"
   ]
  },
  {
   "cell_type": "code",
   "execution_count": 50,
   "metadata": {},
   "outputs": [],
   "source": [
    "assert recursive_sum_weights(reverse(DAY07_TEST), COLOR) == 32\n",
    "assert recursive_sum_weights(reverse(DAY07_DATA), COLOR) == 30055"
   ]
  },
  {
   "cell_type": "markdown",
   "metadata": {},
   "source": [
    "## Day 8"
   ]
  },
  {
   "cell_type": "code",
   "execution_count": 51,
   "metadata": {},
   "outputs": [],
   "source": [
    "def parse_ops(text):\n",
    "    ops = []\n",
    "    for l in text.splitlines():\n",
    "        op, n = l.split()\n",
    "        ops.append((op, int(n)))\n",
    "    return ops"
   ]
  },
  {
   "cell_type": "code",
   "execution_count": 52,
   "metadata": {},
   "outputs": [],
   "source": [
    "DAY08_TEST = \"\"\"\\\n",
    "nop +0\n",
    "acc +1\n",
    "jmp +4\n",
    "acc +3\n",
    "jmp -3\n",
    "acc -99\n",
    "acc +1\n",
    "jmp -4\n",
    "acc +6\n",
    "\"\"\"\n",
    "DAY08_TEST = parse_ops(DAY08_TEST)\n",
    "with open(\"data/day08.txt\") as f:\n",
    "    DAY08_DATA = parse_ops(f.read())"
   ]
  },
  {
   "cell_type": "markdown",
   "metadata": {},
   "source": [
    "### Part A"
   ]
  },
  {
   "cell_type": "code",
   "execution_count": 53,
   "metadata": {},
   "outputs": [],
   "source": [
    "@dataclass\n",
    "class Program:\n",
    "    ops: List[Tuple[str, int]]\n",
    "    pos: int = 0\n",
    "    acc: int = 0\n",
    "    visited: set = field(default_factory=set)\n",
    "\n",
    "    def run(self):\n",
    "        if self.pos in self.visited:\n",
    "            return self.acc\n",
    "        op, n = self.ops[self.pos]\n",
    "        self.visited = {*self.visited, self.pos}\n",
    "        return {\"nop\": self.nop, \"acc\": self.accumulate, \"jmp\": self.jump}[op](n).run()\n",
    "\n",
    "    def nop(self, n):\n",
    "        return replace(self, pos=self.pos+1)\n",
    "\n",
    "    def accumulate(self, n):\n",
    "        return replace(self, pos=self.pos+1, acc=self.acc+n)\n",
    "\n",
    "    def jump(self, n):\n",
    "        return replace(self, pos=self.pos+n)"
   ]
  },
  {
   "cell_type": "code",
   "execution_count": 54,
   "metadata": {
    "scrolled": true
   },
   "outputs": [],
   "source": [
    "assert Program(DAY08_TEST).run() == 5\n",
    "assert Program(DAY08_DATA).run() == 2080"
   ]
  },
  {
   "cell_type": "markdown",
   "metadata": {},
   "source": [
    "### Part B"
   ]
  },
  {
   "cell_type": "code",
   "execution_count": 55,
   "metadata": {},
   "outputs": [],
   "source": [
    "@dataclass\n",
    "class SwapProgram(Program):\n",
    "    can_swap: bool = True\n",
    "\n",
    "    SWAPS = {\"nop\": \"jmp\", \"jmp\": \"nop\"}\n",
    "\n",
    "    def run(self):\n",
    "        if self.pos in self.visited:\n",
    "            return None\n",
    "        if self.pos >= len(self.ops):\n",
    "            return self.acc\n",
    "        op, n = self.ops[self.pos]\n",
    "        if self.can_swap and op in self.SWAPS and (result := self.swap().run()):\n",
    "            return result\n",
    "        self.visited = {*self.visited, self.pos}\n",
    "        return {\"nop\": self.nop, \"acc\": self.accumulate, \"jmp\": self.jump}[op](n).run()\n",
    "\n",
    "\n",
    "    def swap(self):\n",
    "        op, n = self.ops[self.pos]\n",
    "        ops = self.ops.copy()\n",
    "        to_op = self.SWAPS[op]\n",
    "        ops[self.pos] = (to_op, n)\n",
    "        return replace(self, ops=ops, can_swap=False)"
   ]
  },
  {
   "cell_type": "code",
   "execution_count": 56,
   "metadata": {},
   "outputs": [],
   "source": [
    "assert SwapProgram(DAY08_TEST).run() == 8\n",
    "assert SwapProgram(DAY08_DATA).run() == 2477"
   ]
  },
  {
   "cell_type": "markdown",
   "metadata": {},
   "source": [
    "## Day 9"
   ]
  },
  {
   "cell_type": "code",
   "execution_count": 57,
   "metadata": {},
   "outputs": [],
   "source": [
    "from itertools import combinations"
   ]
  },
  {
   "cell_type": "code",
   "execution_count": 58,
   "metadata": {},
   "outputs": [],
   "source": [
    "DAY09_TEST = \"\"\"\\\n",
    "35\n",
    "20\n",
    "15\n",
    "25\n",
    "47\n",
    "40\n",
    "62\n",
    "55\n",
    "65\n",
    "95\n",
    "102\n",
    "117\n",
    "150\n",
    "182\n",
    "127\n",
    "219\n",
    "299\n",
    "277\n",
    "309\n",
    "576\n",
    "\"\"\"\n",
    "DAY09_TEST = split_ints(DAY09_TEST)\n",
    "with open(\"data/day09.txt\") as f:\n",
    "    DAY09_DATA = split_ints(f.read())"
   ]
  },
  {
   "cell_type": "markdown",
   "metadata": {},
   "source": [
    "### Part A"
   ]
  },
  {
   "cell_type": "code",
   "execution_count": 59,
   "metadata": {},
   "outputs": [],
   "source": [
    "def first(ints, window_size):\n",
    "    end = window_size\n",
    "    for x in ints[end:]:\n",
    "        start = end - window_size\n",
    "        try:\n",
    "            next(True for y in combinations(ints[start:end], 2) if sum(y) == x)\n",
    "        except StopIteration:\n",
    "            return x\n",
    "        end += 1"
   ]
  },
  {
   "cell_type": "code",
   "execution_count": 60,
   "metadata": {},
   "outputs": [],
   "source": [
    "assert first(DAY09_TEST, 5) == 127"
   ]
  },
  {
   "cell_type": "code",
   "execution_count": 61,
   "metadata": {},
   "outputs": [],
   "source": [
    "assert first(DAY09_DATA, 25) == 26134589"
   ]
  },
  {
   "cell_type": "markdown",
   "metadata": {},
   "source": [
    "### Part B"
   ]
  },
  {
   "cell_type": "code",
   "execution_count": 62,
   "metadata": {},
   "outputs": [],
   "source": [
    "def calc_ranges(i):\n",
    "    if i <= 1: return []\n",
    "    return [(j, i) for j in range(1, i)]"
   ]
  },
  {
   "cell_type": "code",
   "execution_count": 63,
   "metadata": {},
   "outputs": [],
   "source": [
    "assert calc_ranges(1) == []\n",
    "assert calc_ranges(2) == [(1, 2)]\n",
    "assert calc_ranges(3) == [(1, 3), (2, 3)]\n",
    "assert calc_ranges(4) == [(1, 4), (2, 4), (3, 4)]"
   ]
  },
  {
   "cell_type": "code",
   "execution_count": 64,
   "metadata": {},
   "outputs": [],
   "source": [
    "def func(ints, eq):\n",
    "    for i, x in enumerate(ints):\n",
    "        ranges = calc_ranges(i)\n",
    "        for start, end in ranges:\n",
    "            s = sum(ints[start:end])\n",
    "            if s == eq:\n",
    "                return min(ints[start:end]) + max(ints[start:end])\n",
    "    assert False"
   ]
  },
  {
   "cell_type": "code",
   "execution_count": 65,
   "metadata": {},
   "outputs": [],
   "source": [
    "assert func(DAY09_TEST, 127) == 62"
   ]
  },
  {
   "cell_type": "code",
   "execution_count": 66,
   "metadata": {},
   "outputs": [],
   "source": [
    "assert func(DAY09_DATA, 26134589) == 3535124"
   ]
  },
  {
   "cell_type": "markdown",
   "metadata": {},
   "source": [
    "## Day 10"
   ]
  },
  {
   "cell_type": "code",
   "execution_count": 67,
   "metadata": {},
   "outputs": [],
   "source": [
    "DAY10_TEST1 = \"\"\"\\\n",
    "16\n",
    "10\n",
    "15\n",
    "5\n",
    "1\n",
    "11\n",
    "7\n",
    "19\n",
    "6\n",
    "12\n",
    "4\n",
    "\"\"\"\n",
    "DAY10_TEST1 = split_ints(DAY10_TEST1)\n",
    "DAY10_TEST2 = \"\"\"\\\n",
    "28\n",
    "33\n",
    "18\n",
    "42\n",
    "31\n",
    "14\n",
    "46\n",
    "20\n",
    "48\n",
    "47\n",
    "24\n",
    "23\n",
    "49\n",
    "45\n",
    "19\n",
    "38\n",
    "39\n",
    "11\n",
    "1\n",
    "32\n",
    "25\n",
    "35\n",
    "8\n",
    "17\n",
    "7\n",
    "9\n",
    "4\n",
    "2\n",
    "34\n",
    "10\n",
    "3\n",
    "\"\"\"\n",
    "DAY10_TEST2 = split_ints(DAY10_TEST2)\n",
    "with open(\"data/day10.txt\") as f:\n",
    "    DAY10_DATA = split_ints(f.read())"
   ]
  },
  {
   "cell_type": "markdown",
   "metadata": {},
   "source": [
    "### Part A"
   ]
  },
  {
   "cell_type": "code",
   "execution_count": 68,
   "metadata": {},
   "outputs": [],
   "source": [
    "def count_jolt_diff(ints):\n",
    "    ints = sorted([0] + ints + [max(ints) + 3])\n",
    "    diffs = [b - a for a, b in zip(ints, ints[1:])]\n",
    "    counts = Counter(diffs)\n",
    "    return counts[1] * counts[3]"
   ]
  },
  {
   "cell_type": "code",
   "execution_count": 69,
   "metadata": {},
   "outputs": [],
   "source": [
    "assert count_jolt_diff(DAY10_TEST1) == 7 * 5"
   ]
  },
  {
   "cell_type": "code",
   "execution_count": 70,
   "metadata": {},
   "outputs": [],
   "source": [
    "assert count_jolt_diff(DAY10_TEST2) == 22 * 10"
   ]
  },
  {
   "cell_type": "code",
   "execution_count": 71,
   "metadata": {},
   "outputs": [],
   "source": [
    "assert count_jolt_diff(DAY10_DATA) == 1984"
   ]
  },
  {
   "cell_type": "markdown",
   "metadata": {},
   "source": [
    "### Part B"
   ]
  },
  {
   "cell_type": "code",
   "execution_count": 72,
   "metadata": {},
   "outputs": [],
   "source": [
    "def count_paths(ints, pos=0, paths=1):\n",
    "    if pos >= len(ints):\n",
    "        return paths\n",
    "    \n",
    "    if pos < len(ints) - 2:\n",
    "        diff = ints[pos+2] - ints[pos]\n",
    "        if diff <= 3:\n",
    "            paths = count_paths(ints, pos+2, paths+1)\n",
    "\n",
    "    if pos < len(ints) - 3:\n",
    "        diff = ints[pos+3] - ints[pos]\n",
    "        if diff <= 3:\n",
    "            paths = count_paths(ints, pos+3, paths+1)\n",
    "\n",
    "    paths = count_paths(ints, pos+1, paths)\n",
    "\n",
    "    return paths"
   ]
  },
  {
   "cell_type": "code",
   "execution_count": 73,
   "metadata": {},
   "outputs": [],
   "source": [
    "def func(ints):\n",
    "    ints = [0] + sorted(ints) + [max(ints) + 3]\n",
    "\n",
    "    splits = []\n",
    "    last = 0\n",
    "    for i, _ in enumerate(ints):\n",
    "        if ints[i] - ints[i-1] >= 3:\n",
    "            splits.append(ints[last:i])\n",
    "            last = i\n",
    "            \n",
    "    return prod(count_paths(s) for s in splits)"
   ]
  },
  {
   "cell_type": "code",
   "execution_count": 74,
   "metadata": {},
   "outputs": [],
   "source": [
    "assert func(DAY10_TEST1) == 8"
   ]
  },
  {
   "cell_type": "code",
   "execution_count": 75,
   "metadata": {},
   "outputs": [],
   "source": [
    "assert func(DAY10_TEST2) == 19208"
   ]
  },
  {
   "cell_type": "code",
   "execution_count": 76,
   "metadata": {},
   "outputs": [],
   "source": [
    "assert func(DAY10_DATA) == 3543369523456"
   ]
  },
  {
   "cell_type": "markdown",
   "metadata": {},
   "source": [
    "## Day 11"
   ]
  },
  {
   "cell_type": "code",
   "execution_count": 77,
   "metadata": {},
   "outputs": [],
   "source": [
    "def split_array(text):\n",
    "    return np.array([[CHAR_TO_INT[c] for c in l] for l in text.strip().split(\"\\n\")])"
   ]
  },
  {
   "cell_type": "code",
   "execution_count": 78,
   "metadata": {},
   "outputs": [],
   "source": [
    "class Seat(Enum):\n",
    "    EMPTY = \"L\"\n",
    "    OCCUPIED = \"#\""
   ]
  },
  {
   "cell_type": "code",
   "execution_count": 79,
   "metadata": {},
   "outputs": [],
   "source": [
    "@dataclass\n",
    "class SeatMatrix(Mapping):\n",
    "    seats: Dict[Tuple[int, int], Seat]\n",
    "    shape: Tuple[int, int]\n",
    "\n",
    "    def __repr__(self):\n",
    "        res = \"\"\n",
    "        for i in range(self.shape[0]):\n",
    "            for j in range(self.shape[1]):\n",
    "                seat = self.seats.get((i, j))\n",
    "                res += seat.value if seat else \".\"\n",
    "            res += \"\\n\"\n",
    "        return res\n",
    "\n",
    "    def __getitem__(self, key):\n",
    "        return self.seats[key]\n",
    "\n",
    "    def __iter__(self):\n",
    "        return iter(self.seats)\n",
    "\n",
    "    def __len__(self):\n",
    "        return len(self.seats)"
   ]
  },
  {
   "cell_type": "code",
   "execution_count": 80,
   "metadata": {},
   "outputs": [],
   "source": [
    "def parse_seats(text):\n",
    "    seats = {}\n",
    "    for x, line in enumerate(text.split()):\n",
    "        for y, char in enumerate(line):\n",
    "            if char != \".\":\n",
    "                seats[x, y] = Seat(char)\n",
    "    shape = max(x for x, _ in seats.keys()), max(y for y, _ in seats.keys())\n",
    "    return SeatMatrix(seats, shape)"
   ]
  },
  {
   "cell_type": "code",
   "execution_count": 81,
   "metadata": {},
   "outputs": [],
   "source": [
    "DAY11_TEST = \"\"\"\\\n",
    "L.LL.LL.LL\n",
    "LLLLLLL.LL\n",
    "L.L.L..L..\n",
    "LLLL.LL.LL\n",
    "L.LL.LL.LL\n",
    "L.LLLLL.LL\n",
    "..L.L.....\n",
    "LLLLLLLLLL\n",
    "L.LLLLLL.L\n",
    "L.LLLLL.LL\n",
    "\"\"\"\n",
    "DAY11_TEST = parse_seats(DAY11_TEST)\n",
    "with open(\"data/day11.txt\") as f:\n",
    "    DAY11_DATA = parse_seats(f.read())"
   ]
  },
  {
   "cell_type": "markdown",
   "metadata": {},
   "source": [
    "### Part A"
   ]
  },
  {
   "cell_type": "code",
   "execution_count": 82,
   "metadata": {},
   "outputs": [],
   "source": [
    "DIRECTIONS = [(dx, dy) for dx, dy in product((-1, 0, 1), repeat=2) if (dx, dy) != (0, 0)]\n",
    "\n",
    "def rays(seats, i, j, length=1):\n",
    "    for dx, dy in DIRECTIONS:\n",
    "        x, y = i, j\n",
    "        for _ in range(length):\n",
    "            x += dx\n",
    "            y += dy\n",
    "            if x < 0 or x >= seats.shape[0] or y < 0 or y >= seats.shape[1]:\n",
    "                break\n",
    "            seat = seats.get((x, y))\n",
    "            if seat:\n",
    "                yield seat\n",
    "                break"
   ]
  },
  {
   "cell_type": "code",
   "execution_count": 83,
   "metadata": {},
   "outputs": [],
   "source": [
    "def evolve(seats):\n",
    "    res = seats.copy()\n",
    "    for (i, j), seat in seats.items():\n",
    "        n_occupied = sum(n == Seat.OCCUPIED for n in rays(seats, i, j, length=1))\n",
    "        if seat == Seat.EMPTY and n_occupied == 0:\n",
    "            res[(i, j)] = Seat.OCCUPIED\n",
    "        elif seat == Seat.OCCUPIED and n_occupied >= 4:\n",
    "            res[(i, j)] = Seat.EMPTY\n",
    "    return res"
   ]
  },
  {
   "cell_type": "code",
   "execution_count": 84,
   "metadata": {},
   "outputs": [],
   "source": [
    "def func(seats):\n",
    "    prev = None\n",
    "    while not np.all(prev == seats):\n",
    "        prev = seats\n",
    "        seats = evolve(seats)\n",
    "    return sum(s == Seat.OCCUPIED for s in seats)"
   ]
  },
  {
   "cell_type": "code",
   "execution_count": 85,
   "metadata": {},
   "outputs": [],
   "source": [
    "def print_seats(seats, shape):\n",
    "    for i in range(shape[0]):\n",
    "        for j in range(shape[1]):\n",
    "            seat = seats.get((i, j))\n",
    "            seat = seat.value if seat else \".\"\n",
    "            print(seat, end=\"\")\n",
    "        print()"
   ]
  },
  {
   "cell_type": "code",
   "execution_count": 86,
   "metadata": {},
   "outputs": [],
   "source": [
    "# evolve(DAY11_TEST)"
   ]
  },
  {
   "cell_type": "code",
   "execution_count": 87,
   "metadata": {},
   "outputs": [],
   "source": [
    "def count_occ(arr, i, j):\n",
    "    n_occ = 0\n",
    "    for dx, dy in SLOPES:\n",
    "        xi, yi = i, j\n",
    "        while True:\n",
    "            xi, yi = xi + dx, yi + dy\n",
    "            if xi >= arr.shape[0] or xi < 0 or yi >= arr.shape[1] or yi < 0:\n",
    "                break\n",
    "            if arr[xi, yi] == OCC:\n",
    "                n_occ += 1\n",
    "            if arr[xi, yi] != FLOOR:\n",
    "                break\n",
    "    return n_occ"
   ]
  },
  {
   "cell_type": "markdown",
   "metadata": {},
   "source": [
    "### Part B"
   ]
  },
  {
   "cell_type": "code",
   "execution_count": 88,
   "metadata": {},
   "outputs": [],
   "source": [
    "def evolve2(arr):\n",
    "    res = arr.copy()\n",
    "    for i in range(arr.shape[0]):\n",
    "        for j in range(arr.shape[1]):\n",
    "            x = res[i, j]\n",
    "            if x == FLOOR:\n",
    "                continue\n",
    "            n = rays(arr, i, j)\n",
    "            n_occ = sum(arr[x, y] == OCC for x, y in n)\n",
    "            if x == EMPTY:\n",
    "                if not n_occ:\n",
    "                    res[i, j] = OCC\n",
    "            elif x == OCC:\n",
    "                if n_occ >= 5:  # 4 (neighbors) + 1 (current)\n",
    "                    res[i, j] = EMPTY\n",
    "    return res"
   ]
  },
  {
   "cell_type": "code",
   "execution_count": 89,
   "metadata": {},
   "outputs": [],
   "source": [
    "# arr = DAY11_DATA.copy()\n",
    "# prev = None\n",
    "# while not np.all(prev == arr):\n",
    "#     prev = arr\n",
    "#     arr = evolve2(arr)\n",
    "# assert np.sum(arr == OCC) == 1978"
   ]
  },
  {
   "cell_type": "markdown",
   "metadata": {},
   "source": [
    "## Day 12"
   ]
  },
  {
   "cell_type": "code",
   "execution_count": 90,
   "metadata": {},
   "outputs": [],
   "source": [
    "def parse_instructions(text):\n",
    "    return [(l[0], int(l[1:])) for l in text.splitlines()]"
   ]
  },
  {
   "cell_type": "code",
   "execution_count": 91,
   "metadata": {},
   "outputs": [],
   "source": [
    "DAY12_TEST = \"\"\"\\\n",
    "F10\n",
    "N3\n",
    "F7\n",
    "R90\n",
    "F11\n",
    "\"\"\"\n",
    "DAY12_TEST = parse_instructions(DAY12_TEST)\n",
    "with open(\"data/day12.txt\") as f:\n",
    "    DAY12_DATA = parse_instructions(f.read())"
   ]
  },
  {
   "cell_type": "markdown",
   "metadata": {},
   "source": [
    "### Part A"
   ]
  },
  {
   "cell_type": "code",
   "execution_count": 92,
   "metadata": {},
   "outputs": [],
   "source": [
    "def rotate_ccw(x, y, deg):\n",
    "    rad = radians(deg)\n",
    "    x2 = x * cos(rad) - y * sin(rad)\n",
    "    y2 = x * sin(rad) + y * cos(rad)\n",
    "    return int(round(x2)), int(round(y2))\n",
    "\n",
    "def rotate_cw(x, y, deg):\n",
    "    return rotate_ccw(x, y, -deg)"
   ]
  },
  {
   "cell_type": "code",
   "execution_count": 93,
   "metadata": {},
   "outputs": [],
   "source": [
    "@dataclass\n",
    "class Navigator:\n",
    "    dx: int\n",
    "    dy: int\n",
    "    x: int = 0\n",
    "    y: int = 0\n",
    "\n",
    "    def navigate(self, instructions):\n",
    "        nav = self\n",
    "        for code, n in instructions:\n",
    "            nav = {\n",
    "                \"F\": nav.forward,\n",
    "                \"N\": nav.north,\n",
    "                \"E\": nav.east,\n",
    "                \"S\": nav.south,\n",
    "                \"W\": nav.west,\n",
    "                \"L\": nav.left,\n",
    "                \"R\": nav.right,\n",
    "            }[code](n)\n",
    "        return abs(nav.x) + abs(nav.y)\n",
    "\n",
    "    def forward(self, n):\n",
    "        return replace(self, x=self.x+self.dx*n, y=self.y+self.dy*n)\n",
    "\n",
    "    def north(self, n):\n",
    "        return replace(self, y=self.y+n)\n",
    "\n",
    "    def east(self, n):\n",
    "        return replace(self, x=self.x+n)\n",
    "\n",
    "    def south(self, n):\n",
    "        return replace(self, y=self.y-n)\n",
    "\n",
    "    def west(self, n):\n",
    "        return replace(self, x=self.x-n)\n",
    "\n",
    "    def left(self, n):\n",
    "        dx, dy = rotate_ccw(self.dx, self.dy, n)\n",
    "        return replace(self, dx=dx, dy=dy)\n",
    "\n",
    "    def right(self, n):\n",
    "        dx, dy = rotate_cw(self.dx, self.dy, n)\n",
    "        return replace(self, dx=dx, dy=dy)"
   ]
  },
  {
   "cell_type": "code",
   "execution_count": 94,
   "metadata": {},
   "outputs": [],
   "source": [
    "assert Navigator(dx=1, dy=0).navigate(DAY12_TEST) == 25\n",
    "assert Navigator(dx=1, dy=0).navigate(DAY12_DATA) == 521"
   ]
  },
  {
   "cell_type": "markdown",
   "metadata": {},
   "source": [
    "### Part B"
   ]
  },
  {
   "cell_type": "code",
   "execution_count": 95,
   "metadata": {},
   "outputs": [],
   "source": [
    "class WaypointNavigator(Navigator):\n",
    "    def north(self, n):\n",
    "        return replace(self, dy=self.dy+n)\n",
    "\n",
    "    def east(self, n):\n",
    "        return replace(self, dx=self.dx+n)\n",
    "\n",
    "    def south(self, n):\n",
    "        return replace(self, dy=self.dy-n)\n",
    "\n",
    "    def west(self, n):\n",
    "        return replace(self, dx=self.dx-n)"
   ]
  },
  {
   "cell_type": "code",
   "execution_count": 96,
   "metadata": {},
   "outputs": [],
   "source": [
    "assert WaypointNavigator(dx=10, dy=1).navigate(DAY12_TEST) == 286\n",
    "assert WaypointNavigator(dx=10, dy=1).navigate(DAY12_DATA) == 22848"
   ]
  },
  {
   "cell_type": "markdown",
   "metadata": {},
   "source": [
    "## Day 13"
   ]
  },
  {
   "cell_type": "code",
   "execution_count": 97,
   "metadata": {},
   "outputs": [],
   "source": [
    "# DAY13_TEST = \"\"\"\n",
    "# \"\"\"\n",
    "# DAY13_TEST = split(DAY13_TEST)\n",
    "# DAY13_DATA = split(read(\"data/day13.txt\"))"
   ]
  },
  {
   "cell_type": "markdown",
   "metadata": {},
   "source": [
    "### Part A"
   ]
  },
  {
   "cell_type": "markdown",
   "metadata": {},
   "source": [
    "### Part B"
   ]
  },
  {
   "cell_type": "markdown",
   "metadata": {},
   "source": [
    "## Day 14"
   ]
  },
  {
   "cell_type": "code",
   "execution_count": 98,
   "metadata": {},
   "outputs": [],
   "source": [
    "DOCKING_PATTERNS = [\n",
    "    (\"mem\", r\"^mem\\[(\\d+)\\] = (\\d+)$\"),\n",
    "    (\"mask\", r\"^mask = ([X01]{36})$\"),\n",
    "]\n",
    "\n",
    "def parse_docking_program(text):\n",
    "    program = []\n",
    "    for line in text.splitlines():\n",
    "        for key, pat in DOCKING_PATTERNS:\n",
    "            if match := re.match(pat, line):\n",
    "                program.append((key, *match.groups()))\n",
    "                break\n",
    "        else:\n",
    "            raise ValueError(f\"Could not parse line: '{line}'\")\n",
    "    return program"
   ]
  },
  {
   "cell_type": "code",
   "execution_count": 99,
   "metadata": {},
   "outputs": [],
   "source": [
    "DAY14_TEST = \"\"\"\\\n",
    "mask = XXXXXXXXXXXXXXXXXXXXXXXXXXXXX1XXXX0X\n",
    "mem[8] = 11\n",
    "mem[7] = 101\n",
    "mem[8] = 0\n",
    "\"\"\"\n",
    "DAY14_TEST = parse_docking_program(DAY14_TEST)\n",
    "with open(\"data/day14.txt\") as f:\n",
    "    DAY14_DATA = parse_docking_program(f.read())"
   ]
  },
  {
   "cell_type": "markdown",
   "metadata": {},
   "source": [
    "### Part A"
   ]
  },
  {
   "cell_type": "code",
   "execution_count": 100,
   "metadata": {},
   "outputs": [],
   "source": [
    "def run_docking_program(program):\n",
    "    mask = {}\n",
    "    mem = {}\n",
    "    for p in program:\n",
    "        op = p[0]\n",
    "        vals = p[1:]\n",
    "        if op == \"mask\":\n",
    "            mask_str = vals[0]\n",
    "            mask = dict((i, x) for i, x in enumerate(mask_str) if x != \"X\")\n",
    "        elif op == \"mem\":\n",
    "            key = int(vals[0])\n",
    "            val = int(vals[1])\n",
    "            val_bin = format(int(val), \"036b\")    # 0-padded 36-length binary string\n",
    "            masked_val_bin = \"\".join(mask.get(i) or x for i, x in enumerate(val_bin))\n",
    "            masked_val = int(masked_val_bin, 2)\n",
    "            mem[key] = masked_val\n",
    "    return sum(mem.values())"
   ]
  },
  {
   "cell_type": "code",
   "execution_count": 101,
   "metadata": {},
   "outputs": [],
   "source": [
    "assert run_docking_program(DAY14_TEST) == 165"
   ]
  },
  {
   "cell_type": "code",
   "execution_count": 102,
   "metadata": {},
   "outputs": [],
   "source": [
    "assert run_docking_program(DAY14_DATA) == 11612740949946"
   ]
  },
  {
   "cell_type": "markdown",
   "metadata": {},
   "source": [
    "### Part B"
   ]
  },
  {
   "cell_type": "code",
   "execution_count": 103,
   "metadata": {},
   "outputs": [],
   "source": [
    "DAY14_TEST2 = \"\"\"\\\n",
    "mask = 000000000000000000000000000000X1001X\n",
    "mem[42] = 100\n",
    "mask = 00000000000000000000000000000000X0XX\n",
    "mem[26] = 1\n",
    "\"\"\"\n",
    "DAY14_TEST2 = parse_docking_program(DAY14_TEST2)"
   ]
  },
  {
   "cell_type": "code",
   "execution_count": 104,
   "metadata": {},
   "outputs": [],
   "source": [
    "def run_docking_program2(program):\n",
    "    mask_to_1 = []\n",
    "    mask_to_floating = []\n",
    "    mem = {}\n",
    "    for p in program:\n",
    "        op = p[0]\n",
    "        vals = p[1:]\n",
    "        if op == \"mask\":\n",
    "            mask_str = vals[0]\n",
    "            mask_to_1 = []\n",
    "            mask_to_floating = []\n",
    "            for i, x in enumerate(mask_str):\n",
    "                if x == \"1\":   mask_to_1.append(i)\n",
    "                elif x == \"X\": mask_to_floating.append(i)\n",
    "        elif op == \"mem\":\n",
    "            key = int(vals[0])\n",
    "            val = int(vals[1])\n",
    "\n",
    "            key_bin = list(format(key, \"036b\"))    # 0-padded 36-length binary string\n",
    "            for i in mask_to_1:\n",
    "                key_bin[i] = \"1\"\n",
    "\n",
    "            for floating in product([\"0\", \"1\"], repeat=len(mask_to_floating)):\n",
    "                for i, v in zip(mask_to_floating, floating):\n",
    "                    key_bin[i] = v\n",
    "                mem[int(\"\".join(key_bin), 2)] = val\n",
    "\n",
    "    return sum(mem.values())"
   ]
  },
  {
   "cell_type": "code",
   "execution_count": 105,
   "metadata": {},
   "outputs": [],
   "source": [
    "assert run_docking_program2(DAY14_TEST2) == 208"
   ]
  },
  {
   "cell_type": "code",
   "execution_count": 106,
   "metadata": {},
   "outputs": [],
   "source": [
    "assert run_docking_program2(DAY14_DATA) == 3394509207186"
   ]
  },
  {
   "cell_type": "markdown",
   "metadata": {},
   "source": [
    "## Day 15"
   ]
  },
  {
   "cell_type": "code",
   "execution_count": 107,
   "metadata": {},
   "outputs": [],
   "source": [
    "DAY15_TEST = [0,3,6]\n",
    "DAY15_DATA = [0,5,4,1,10,14,7]"
   ]
  },
  {
   "cell_type": "markdown",
   "metadata": {},
   "source": [
    "### Part A"
   ]
  },
  {
   "cell_type": "code",
   "execution_count": 108,
   "metadata": {},
   "outputs": [],
   "source": [
    "def memory_game(ints, turns):\n",
    "    spoken = defaultdict(partial(deque, maxlen=2))\n",
    "    for i, x in enumerate(ints):\n",
    "        spoken[x].append(i+1)\n",
    "    last = ints[-1]\n",
    "    s = spoken[last]\n",
    "    for i in range(len(ints)+1, turns+1):\n",
    "        if len(s) > 1:\n",
    "            last = s[-1] - s.popleft()\n",
    "        else:\n",
    "            last = 0\n",
    "        s = spoken[last]\n",
    "        s.append(i)\n",
    "    return last"
   ]
  },
  {
   "cell_type": "code",
   "execution_count": 109,
   "metadata": {},
   "outputs": [],
   "source": [
    "assert memory_game(DAY15_DATA, 2020) == 203"
   ]
  },
  {
   "cell_type": "markdown",
   "metadata": {},
   "source": [
    "### Part B"
   ]
  },
  {
   "cell_type": "code",
   "execution_count": 110,
   "metadata": {},
   "outputs": [],
   "source": [
    "# assert memory_game(DAY15_DATA, 30000000) == 9007186"
   ]
  },
  {
   "cell_type": "markdown",
   "metadata": {},
   "source": [
    "## Day 16"
   ]
  },
  {
   "cell_type": "code",
   "execution_count": 111,
   "metadata": {},
   "outputs": [],
   "source": [
    "import re\n",
    "from dataclasses import dataclass\n",
    "from math import prod\n",
    "from typing import Dict, List, Tuple"
   ]
  },
  {
   "cell_type": "markdown",
   "metadata": {},
   "source": [
    "### Part A"
   ]
  },
  {
   "cell_type": "code",
   "execution_count": 112,
   "metadata": {},
   "outputs": [],
   "source": [
    "@dataclass\n",
    "class TicketRule:\n",
    "    ranges: List[Tuple[int, int]]\n",
    "\n",
    "    def is_value_valid(self, value):\n",
    "        \"A ticket value is valid if it is inside any range (inclusive).\"\n",
    "        return any(low <= value <= high for low, high in self.ranges)\n",
    "    \n",
    "    def is_column_valid(self, column):\n",
    "        \"A column is valid if all of its values are valid.\"\n",
    "        return all(self.is_value_valid(value) for value in column)\n",
    "\n",
    "@dataclass\n",
    "class TicketData:\n",
    "    rules: Dict[str, TicketRule]\n",
    "    my_ticket: Tuple[int]\n",
    "    nearby_tickets: List[Tuple[int, ...]]\n",
    "\n",
    "def parse_ticket(s):\n",
    "    return [tuple(int(v) for v in l.split(\",\")) for l in s.splitlines()[1:]]\n",
    "\n",
    "def parse_ticket_data(text):\n",
    "    rules_str, my_ticket_str, nearby_tickets_str = text.split(\"\\n\\n\")\n",
    "\n",
    "    rules = {}\n",
    "    for line in rules_str.splitlines():\n",
    "        field, low1, high1, low2, high2 = re.match(\"^([a-z ]+): (\\d+)\\-(\\d+) or (\\d+)\\-(\\d+)$\", line).groups()\n",
    "        rules[field] = TicketRule([(int(low1), int(high1)), (int(low2), int(high2))])\n",
    "\n",
    "    my_ticket = parse_ticket(my_ticket_str)[0]\n",
    "    nearby_tickets = parse_ticket(nearby_tickets_str)\n",
    "\n",
    "    return TicketData(rules, my_ticket, nearby_tickets)"
   ]
  },
  {
   "cell_type": "code",
   "execution_count": 113,
   "metadata": {},
   "outputs": [],
   "source": [
    "DAY16_TEST = \"\"\"\\\n",
    "class: 1-3 or 5-7\n",
    "row: 6-11 or 33-44\n",
    "seat: 13-40 or 45-50\n",
    "\n",
    "your ticket:\n",
    "7,1,14\n",
    "\n",
    "nearby tickets:\n",
    "7,3,47\n",
    "40,4,50\n",
    "55,2,20\n",
    "38,6,12\n",
    "\"\"\"\n",
    "DAY16_TEST = parse_ticket_data(DAY16_TEST)\n",
    "with open(\"data/day16.txt\") as f:\n",
    "    DAY16_DATA = parse_ticket_data(f.read())"
   ]
  },
  {
   "cell_type": "code",
   "execution_count": 114,
   "metadata": {},
   "outputs": [],
   "source": [
    "def is_value_valid(rules, value):\n",
    "    \"A ticket value is valid if it matches any rule.\"\n",
    "    return any(rule.is_value_valid(value) for rule in rules.values())"
   ]
  },
  {
   "cell_type": "code",
   "execution_count": 115,
   "metadata": {},
   "outputs": [],
   "source": [
    "def invalid_values(rules, tickets):\n",
    "    return [\n",
    "        value for ticket in tickets for value in ticket\n",
    "        if not is_value_valid(rules, value)\n",
    "    ]"
   ]
  },
  {
   "cell_type": "code",
   "execution_count": 116,
   "metadata": {},
   "outputs": [],
   "source": [
    "assert sum(invalid_values(DAY16_TEST.rules, DAY16_TEST.nearby_tickets)) == 71\n",
    "assert sum(invalid_values(DAY16_DATA.rules, DAY16_DATA.nearby_tickets)) == 26980"
   ]
  },
  {
   "cell_type": "markdown",
   "metadata": {},
   "source": [
    "### Part B"
   ]
  },
  {
   "cell_type": "code",
   "execution_count": 117,
   "metadata": {},
   "outputs": [],
   "source": [
    "def is_ticket_valid(rules, ticket):\n",
    "    \"A ticket is valid if all of its values are valid.\"\n",
    "    return all(is_value_valid(rules, value) for value in ticket)"
   ]
  },
  {
   "cell_type": "code",
   "execution_count": 118,
   "metadata": {},
   "outputs": [],
   "source": [
    "def tickets_to_columns(tickets):\n",
    "    \"Reshape tickets (rows) to columns.\"\n",
    "    return [tuple(ticket[i] for ticket in tickets) for i in range(len(tickets[0]))]"
   ]
  },
  {
   "cell_type": "code",
   "execution_count": 119,
   "metadata": {},
   "outputs": [],
   "source": [
    "def order_fields(rules, tickets):\n",
    "    valid_tickets = [ticket for ticket in tickets if is_ticket_valid(rules, ticket)]\n",
    "    columns = tickets_to_columns(valid_tickets)\n",
    "\n",
    "    # column_to_rules[i] is a set of valid rules for the i'th column\n",
    "    column_to_rules = {\n",
    "        i: {field for field, rule in rules.items() if rule.is_column_valid(column)}\n",
    "        for i, column in enumerate(columns)\n",
    "    }\n",
    "\n",
    "    # field_to_column[i] maps the i'th column to a field\n",
    "    field_to_column = {}\n",
    "    unassigned_columns = list(range(len(columns)))\n",
    "    # Assign fields to columns as follows:\n",
    "    # 1. Assign the first column with only one valid rule\n",
    "    # 2. Remove that column from `unassigned_columns` and continue\n",
    "    # 3. Repeat until all columns are assigned\n",
    "    while unassigned_columns:\n",
    "        for i in unassigned_columns:\n",
    "            fs = column_to_rules[i] - set(field_to_column)\n",
    "            if len(fs) == 1:\n",
    "                field_to_column[next(iter(fs))] = i\n",
    "                unassigned_columns.remove(i)\n",
    "                break\n",
    "\n",
    "    # Reshape field_to_column into the correctly ordered list of fields\n",
    "    column_to_field = {v: k for k, v in field_to_column.items()}\n",
    "    return [column_to_field[i] for i in range(len(column_to_field))]"
   ]
  },
  {
   "cell_type": "code",
   "execution_count": 120,
   "metadata": {},
   "outputs": [],
   "source": [
    "def prod_departure_fields(rules, nearby_tickets, my_ticket):\n",
    "    fields = order_fields(rules, nearby_tickets)\n",
    "    return prod(my_ticket[i] for i, field in enumerate(fields) if field.startswith(\"departure\"))"
   ]
  },
  {
   "cell_type": "code",
   "execution_count": 121,
   "metadata": {},
   "outputs": [],
   "source": [
    "assert order_fields(DAY16_TEST.rules, DAY16_TEST.nearby_tickets) == [\"row\", \"class\", \"seat\"]"
   ]
  },
  {
   "cell_type": "code",
   "execution_count": 122,
   "metadata": {},
   "outputs": [],
   "source": [
    "assert prod_departure_fields(DAY16_DATA.rules, DAY16_DATA.nearby_tickets, DAY16_DATA.my_ticket) == 3021381607403"
   ]
  }
 ],
 "metadata": {
  "kernelspec": {
   "display_name": "Python 3",
   "language": "python",
   "name": "python3"
  },
  "language_info": {
   "codemirror_mode": {
    "name": "ipython",
    "version": 3
   },
   "file_extension": ".py",
   "mimetype": "text/x-python",
   "name": "python",
   "nbconvert_exporter": "python",
   "pygments_lexer": "ipython3",
   "version": "3.8.5"
  }
 },
 "nbformat": 4,
 "nbformat_minor": 4
}
